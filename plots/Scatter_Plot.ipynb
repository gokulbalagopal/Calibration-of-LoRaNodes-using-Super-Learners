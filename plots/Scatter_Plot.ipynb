{
 "cells": [
  {
   "cell_type": "code",
   "execution_count": null,
   "id": "916e6818-c596-4d49-a2b7-66d6f3a8f4e8",
   "metadata": {},
   "outputs": [],
   "source": [
    "def Scatter_Plot(combined_df, train_df, test_df, r2_score_train, r2_score_test, v, unit,ml_type):\n",
    "    # Calculate the counts of training and testing data\n",
    "    train_count = f\"{len(train_df):,}\"  # Format with commas\n",
    "    test_count = f\"{len(test_df):,}\"  # Format with commas\n",
    "\n",
    "    # Set the figure size\n",
    "    plt.figure(figsize=(12, 10))\n",
    "\n",
    "    # Create the jointplot\n",
    "    g = sns.jointplot(data=combined_df, x=\"Actual\", y=\"Predicted\", hue=\"Category\", kind=\"scatter\", legend=False, palette=['orange','#1f77b4'])\n",
    "\n",
    "    # Scatter plots for training and testing data with counts in the label\n",
    "    sns.scatterplot(data=train_df, x=\"Actual\", y=\"Predicted\", label=f\"Training Data (n = {train_count}), R$^2$ = {r2_score_train:.2f}\", ax=g.ax_joint, color='#1f77b4')\n",
    "    sns.scatterplot(data=test_df, x=\"Actual\", y=\"Predicted\", label=f\"Testing Data (n = {test_count}), R$^2$ = {r2_score_test:.2f}\", ax=g.ax_joint, color='orange')\n",
    "\n",
    "    # Line plot for the 1:1 line\n",
    "    sns.lineplot(x=[combined_df['Actual'].min(), combined_df['Actual'].max()], y=[combined_df['Actual'].min(), combined_df['Actual'].max()], color='grey', ax=g.ax_joint, label='1:1 Line')\n",
    "\n",
    "    # Adjusting the limits\n",
    "    max_limit = max(combined_df['Actual'].max(), combined_df['Predicted'].max()) + 5\n",
    "    g.ax_joint.set_xlim(-2, max_limit)\n",
    "    g.ax_joint.set_ylim(-2, max_limit)\n",
    "\n",
    "    # Adding labels and title\n",
    "    g.ax_joint.set_xlabel('Actual Values')\n",
    "    g.ax_joint.set_ylabel('Predicted Values')\n",
    "    plt.suptitle('Predicted vs Actual ' + dict_col_regression.get(v + 'Palas', '') + ' ' + unit_regression.get(unit, ''), y=1.05)\n",
    "\n",
    "    # Adjust layout and show legend\n",
    "    plt.tight_layout()\n",
    "    plt.legend()\n",
    "    \n",
    "    plt.savefig('D:/UTD/UTDFall2023/Calibration-of-LoRaNodes-using-Super-Learners/plots/scatterplots/'+'scatter_plot_'+ml_type+'_'+v+'.pdf')\n",
    "    #plt.savefig('D:/UTD/UTDFall2023/Calibration-of-LoRaNodes-using-Super-Learners/plots/scatterplots/'+ml_type+'/unfiltered/'+'scatter_plot_'+ml_type+'_'+v+'.pdf')"
   ]
  }
 ],
 "metadata": {
  "kernelspec": {
   "display_name": "Python 3 (ipykernel)",
   "language": "python",
   "name": "python3"
  },
  "language_info": {
   "codemirror_mode": {
    "name": "ipython",
    "version": 3
   },
   "file_extension": ".py",
   "mimetype": "text/x-python",
   "name": "python",
   "nbconvert_exporter": "python",
   "pygments_lexer": "ipython3",
   "version": "3.10.2"
  }
 },
 "nbformat": 4,
 "nbformat_minor": 5
}
