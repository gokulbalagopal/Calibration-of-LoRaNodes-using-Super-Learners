{
 "cells": [
  {
   "cell_type": "code",
   "execution_count": 1,
   "id": "407899bf-cfdf-43b7-80df-f55f35471524",
   "metadata": {
    "editable": true,
    "slideshow": {
     "slide_type": ""
    },
    "tags": []
   },
   "outputs": [
    {
     "name": "stderr",
     "output_type": "stream",
     "text": [
      "C:\\Users\\balag\\AppData\\Local\\Temp\\ipykernel_2692\\2598249271.py:2: DeprecationWarning: \n",
      "Pyarrow will become a required dependency of pandas in the next major release of pandas (pandas 3.0),\n",
      "(to allow more performant data types, such as the Arrow string type, and better interoperability with other libraries)\n",
      "but was not found to be installed on your system.\n",
      "If this would cause problems for you,\n",
      "please provide us feedback at https://github.com/pandas-dev/pandas/issues/54466\n",
      "        \n",
      "  import pandas as pd\n"
     ]
    }
   ],
   "source": [
    "import numpy as np\n",
    "import pandas as pd\n",
    "import matplotlib.pyplot as plt\n",
    "import seaborn as sns\n",
    "import scipy\n",
    "import pickle\n",
    "# from statsmodels.graphics.gofplots import qqplot\n",
    "\n",
    "from sklearn import linear_model\n",
    "from sklearn.model_selection import train_test_split\n",
    "from sklearn.neural_network import MLPRegressor\n",
    "from sklearn.linear_model import LinearRegression\n",
    "from sklearn.linear_model import Lasso\n",
    "from sklearn.svm import SVR\n",
    "import sklearn.gaussian_process as gp\n",
    "from sklearn.tree import DecisionTreeRegressor\n",
    "from sklearn.ensemble import RandomForestRegressor\n",
    "from sklearn import metrics\n",
    "import matplotlib.dates as mdates\n",
    "import lightgbm as lgb\n",
    "from sklearn.linear_model import Ridge\n",
    "from sklearn.gaussian_process import GaussianProcessRegressor\n",
    "from sklearn.gaussian_process.kernels import RBF, ConstantKernel as C\n",
    "from sklearn.ensemble import BaggingRegressor\n",
    "from sklearn.neighbors import KNeighborsRegressor\n",
    "from sklearn.preprocessing import StandardScaler\n",
    "from sklearn.ensemble import StackingRegressor\n",
    "from sklearn.model_selection import cross_val_score\n",
    "from sklearn.metrics import r2_score\n",
    "from skopt import gp_minimize\n",
    "from sklearn.model_selection import cross_val_score\n",
    "from sklearn.metrics import r2_score\n",
    "from skopt import gp_minimize\n",
    "from skopt.space import Real, Categorical, Integer\n",
    "from lightgbm import LGBMRegressor\n",
    "import nbformat\n",
    "from bayes_opt import BayesianOptimization\n",
    "import xgboost as xgb\n",
    "from statsmodels.graphics.gofplots import qqplot_2samples\n",
    "import random"
   ]
  },
  {
   "cell_type": "code",
   "execution_count": null,
   "id": "045eedec-6fd9-4877-99f3-d45ad0a96c5a",
   "metadata": {
    "editable": true,
    "slideshow": {
     "slide_type": ""
    },
    "tags": []
   },
   "outputs": [],
   "source": [
    "# Set random seed\n",
    "np.random.seed(30)\n",
    "random.seed(30)"
   ]
  },
  {
   "cell_type": "code",
   "execution_count": null,
   "id": "49680618-e922-448c-8f95-c636328dfb6a",
   "metadata": {
    "editable": true,
    "slideshow": {
     "slide_type": ""
    },
    "tags": []
   },
   "outputs": [],
   "source": [
    "data = pd.read_csv(r'D:\\UTD\\UTDFall2023\\Calibration-of-LoRaNodes-using-Super-Learners\\data\\calibrate.csv')\n",
    "data"
   ]
  },
  {
   "cell_type": "code",
   "execution_count": null,
   "id": "8c38947e-6775-446f-b729-7e2c046defe4",
   "metadata": {
    "editable": true,
    "slideshow": {
     "slide_type": ""
    },
    "tags": []
   },
   "outputs": [],
   "source": [
    "data.columns"
   ]
  },
  {
   "cell_type": "code",
   "execution_count": null,
   "id": "64de50c2-a0cb-43cf-96fd-09aee93fd2a1",
   "metadata": {
    "editable": true,
    "slideshow": {
     "slide_type": ""
    },
    "tags": []
   },
   "outputs": [],
   "source": [
    "df= pd.concat([data.iloc[:,6], data.iloc[:,0:6],data.iloc[:,15:data.shape[1]]],axis = 1)\n",
    "df.info()"
   ]
  },
  {
   "cell_type": "code",
   "execution_count": null,
   "id": "ba537e09-d575-4907-b52f-977677a1bafb",
   "metadata": {
    "editable": true,
    "slideshow": {
     "slide_type": ""
    },
    "tags": []
   },
   "outputs": [],
   "source": [
    "def data_checker(df):\n",
    "    # data_frame = df.iloc[:,1:16]\n",
    "    data_frame =  df.iloc[:,7:-3] \n",
    "    # Palas limits are 0-100 mg/m3\n",
    "    #BME limits are :Temp -40C to 85C\n",
    "                   #:Pressure 300hPa to 1100 hPa or  300*100Pa to 1100*100 Pa\n",
    "                   #:Humidity 0% to 100%\n",
    "     #PPD42NS :Operating Temp is 0C to 45C\n",
    "    idx = data_frame[(data_frame['Temperature_loRa']>=0) & (data_frame['Temperature_loRa']<=45) &\n",
    "                    (data_frame['Pressure_loRa']>=300*100) & (data_frame['Pressure_loRa']<=1100*100) &\n",
    "                    (data_frame['Humidity_loRa']>=0) & (data_frame['Humidity_loRa']<=100) &\n",
    "                    (data_frame['pm1Palas']>=0) & (data_frame['pm2_5Palas']>=0) &\n",
    "                    (data_frame['pm4Palas']>=0) & (data_frame['pm10Palas']>=0) &\n",
    "                    (data_frame['pmTotalPalas']>=0) & (data_frame['dCnPalas']>=0)&\n",
    "                    (data_frame['pm1Palas']<=100000) & (data_frame['pm2_5Palas']<=100000) &\n",
    "                    (data_frame['pm4Palas']<=100000) & (data_frame['pm10Palas']<=100000) &\n",
    "                    (data_frame['pmTotalPalas']<=100000) & (data_frame['dCnPalas']<=100000)].index\n",
    "                    # &\n",
    "                    # (data_frame['P1_conc_loRa'] + data_frame['P2_conc_loRa']>=0) &\n",
    "                    # (data_frame['P1_conc_loRa'] + data_frame['P2_conc_loRa']<=28000)].index\n",
    "    return df.loc[idx]\n",
    "df = data_checker(df)\n",
    "df"
   ]
  },
  {
   "cell_type": "code",
   "execution_count": null,
   "id": "088c93f8-ebbc-43fd-9255-652f8a88b265",
   "metadata": {
    "editable": true,
    "slideshow": {
     "slide_type": ""
    },
    "tags": []
   },
   "outputs": [],
   "source": [
    "dict_col_names = {'pm1Palas':'PM$_{1.0}$ in $\\mu g/m^3 $ (Palas)', \n",
    "                  'pm2_5Palas': 'PM$_{2.5}$ in $\\mu g/m^3$ (Palas)',\n",
    "                  'pm4Palas': 'PM$_{4.0}$ in $\\mu g/m^3$ (Palas)',\n",
    "                  'pm10Palas': 'PM$_{10.0}$ in $\\mu g/m^3$ (Palas)',\n",
    "                  'pmTotalPalas': 'Total PM Concentration in $\\mu g/m^3$ (Palas)', \n",
    "                  'dCnPalas': 'Particle Count Density in #/cm$^{3}$ (Palas)', \n",
    "                  'P1_lpo_loRa': '> 1 μm LPO (LoRa)',\n",
    "                  'P1_ratio_loRa': '> 1 μm Ratio (LoRa)',\n",
    "                  'P1_conc_loRa':'> 1 μm Concentration in $\\mu g/m^3$ (LoRa)' , \n",
    "                  'P2_lpo_loRa': '> 2.5 μm LPO (LoRa)',\n",
    "                  'P2_ratio_loRa': '> 2.5 μm Ratio (LoRa)', \n",
    "                  'P2_conc_loRa': '> 2.5 μm Concentration in $\\mu g/m^3$ (LoRa)',\n",
    "                  'Temperature_loRa': 'Temperature in ℃ (LoRa)', \n",
    "                  'Pressure_loRa': 'Pressure in Pa (LoRa)',\n",
    "                  'Humidity_loRa': 'Humidity in % (LoRa)'} "
   ]
  },
  {
   "cell_type": "code",
   "execution_count": null,
   "id": "ab5628a1-ca10-4558-8c45-a111b2e97e7a",
   "metadata": {
    "editable": true,
    "slideshow": {
     "slide_type": ""
    },
    "tags": []
   },
   "outputs": [],
   "source": [
    "filtered_data = df.iloc[:,7:-3]\n",
    "filtered_data"
   ]
  },
  {
   "cell_type": "code",
   "execution_count": null,
   "id": "ee4c04b8-cf91-4bac-a6e5-c7bf1123f554",
   "metadata": {
    "editable": true,
    "slideshow": {
     "slide_type": ""
    },
    "tags": []
   },
   "outputs": [],
   "source": [
    "col_name = list(filtered_data)\n",
    "x =[]\n",
    "y_Palas  = []\n",
    "for i in col_name:\n",
    "    if \"_loRa\" in i:\n",
    "        x.append(i)\n",
    "    if \"Palas\" in i:\n",
    "        y_Palas.append(i)\n",
    "Palas = {}\n",
    "for i in y_Palas:\n",
    "    Palas_cols = x + [i]\n",
    "    Palas[i[:-len(\"Palas\")]] = filtered_data[Palas_cols]\n",
    "y_Palas"
   ]
  },
  {
   "cell_type": "code",
   "execution_count": null,
   "id": "1f453572-9f15-423d-af0b-b34d62b3fbf8",
   "metadata": {
    "editable": true,
    "slideshow": {
     "slide_type": ""
    },
    "tags": []
   },
   "outputs": [],
   "source": [
    "def plot_residuals(predict_test,y_test,filtered_data):\n",
    "    idx = X_test.index\n",
    "    data_test = filtered_data.loc[idx]\n",
    "    data_test[\"dateTime\"] = pd.to_datetime(data_test[\"dateTime\"])\n",
    "    residuals = (np.array(y_test) - predict_test)**2\n",
    "    plt.figure()\n",
    "    plt.scatter(data_test[\"dateTime\"], residuals)\n",
    "    plt.xticks(rotation = 45)\n",
    "    plt.xlabel('Date Time')\n",
    "    plt.ylabel(y_test.name)\n",
    "    plt.show()"
   ]
  },
  {
   "cell_type": "code",
   "execution_count": null,
   "id": "aa054228-ac05-4d7e-8ee6-00fbe86dffec",
   "metadata": {
    "editable": true,
    "slideshow": {
     "slide_type": ""
    },
    "tags": []
   },
   "outputs": [],
   "source": [
    "dict_col_regression = {'pm1Palas':'PM$_{1.0}$', \n",
    "                       'pm2_5Palas': 'PM$_{2.5}$',\n",
    "                       'pm4Palas': 'PM$_{4.0}$',\n",
    "                       'pm10Palas': 'PM$_{10.0}$',\n",
    "                       'pmTotalPalas': 'Total PM Concentration', \n",
    "                       'dCnPalas': 'Particle Count Density',\n",
    "                       'dateTime': 'Date Time',\n",
    "                       'P1_lpo_loRa':'> 1 μm LPO',\n",
    "                       'P1_ratio_loRa': '> 1 μm ratio', \n",
    "                       'P1_conc_loRa': '> 1 μm Concentration', \n",
    "                       'P2_lpo_loRa': '> 2.5 μm LPO', \n",
    "                       'P2_ratio_loRa': '> 2.5 μm ratio',\n",
    "                       'P2_conc_loRa': '> 2.5 μm Concentration' , \n",
    "                       'Temperature_loRa': 'Temperature', \n",
    "                       'Pressure_loRa': 'Pressure', \n",
    "                       'Humidity_loRa':'Humidity'}\n",
    "unit_regression = {'pm_conc':'($\\mu g/m^3$)',\n",
    "                   'dCn':'(#/cm$^{3}$)'} "
   ]
  },
  {
   "cell_type": "code",
   "execution_count": null,
   "id": "83e44fb8-260a-4e0d-94ab-e06969484d42",
   "metadata": {
    "editable": true,
    "slideshow": {
     "slide_type": ""
    },
    "tags": []
   },
   "outputs": [],
   "source": [
    "%run D:/UTD/UTDFall2023/Calibration-of-LoRaNodes-using-Super-Learners/models/Linear_Regression.ipynb\n",
    "%run D:/UTD/UTDFall2023/Calibration-of-LoRaNodes-using-Super-Learners/models/Decision_Tree_Regression.ipynb\n",
    "%run D:/UTD/UTDFall2023/Calibration-of-LoRaNodes-using-Super-Learners/models/Ensemble_Bagging_Regression.ipynb\n",
    "%run D:/UTD/UTDFall2023/Calibration-of-LoRaNodes-using-Super-Learners/models/LGBM_Regression.ipynb\n",
    "%run D:/UTD/UTDFall2023/Calibration-of-LoRaNodes-using-Super-Learners/models/Ridge_Regression.ipynb\n",
    "%run D:/UTD/UTDFall2023/Calibration-of-LoRaNodes-using-Super-Learners/models/KNN_Regression.ipynb\n",
    "%run D:/UTD/UTDFall2023/Calibration-of-LoRaNodes-using-Super-Learners/models/Neural_Network_Regression.ipynb\n",
    "%run D:/UTD/UTDFall2023/Calibration-of-LoRaNodes-using-Super-Learners/models/XGBoost_Regression.ipynb\n",
    "%run D:/UTD/UTDFall2023/Calibration-of-LoRaNodes-using-Super-Learners/models/Random_Forest_Regression.ipynb\n",
    "%run D:/UTD/UTDFall2023/Calibration-of-LoRaNodes-using-Super-Learners/models/Stacking_Regression.ipynb"
   ]
  },
  {
   "cell_type": "code",
   "execution_count": null,
   "id": "8b2b6532-c65a-4bbc-a801-cd9cfd3c967c",
   "metadata": {
    "editable": true,
    "slideshow": {
     "slide_type": ""
    },
    "tags": []
   },
   "outputs": [],
   "source": [
    "r2_score_test_lr ={}\n",
    "r2_score_test_rr = {}\n",
    "r2_score_test_knn = {}\n",
    "r2_score_test_dt ={}\n",
    "r2_score_test_xgb = {}\n",
    "r2_score_test_lgbm ={}\n",
    "r2_score_test_br ={}\n",
    "r2_score_test_nn ={}\n",
    "r2_score_test_rf ={}\n",
    "# r2_score_test_sl = {}\n",
    "\n",
    "for k,v in enumerate(Palas):\n",
    "    X = Palas[v].drop([v+\"Palas\"],axis = 1)\n",
    "    y = Palas[v][v+\"Palas\"]\n",
    "    X_train, X_test, y_train, y_test = train_test_split(X, y, test_size=0.20,random_state = 42)\n",
    "    X_train.to_csv(\"X_train.csv\")\n",
    "    X_test.to_csv(\"X_test.csv\")\n",
    "    y_train.to_csv(\"y_train.csv\")\n",
    "    y_test.to_csv(\"y_test.csv\")\n",
    "\n",
    "    r2_score_test_lr[v] =  Linear_Regression(X_train,X_test,y_train,y_test,filtered_data)\n",
    "    r2_score_test_rr[v] = Ridge_Regression(X_train,X_test,y_train,y_test,filtered_data)\n",
    "    r2_score_test_knn[v] = KNN_Regression(X_train,X_test,y_train,y_test,filtered_data)\n",
    "    r2_score_test_dt[v] = Decision_Tree_Regression(X_train,X_test,y_train,y_test,filtered_data)   \n",
    "    r2_score_test_xgb[v] = XGBoost_Regression(X_train,X_test,y_train,y_test,filtered_data)\n",
    "    r2_score_test_lgbm[v]  =  LGBM_Regression(X_train,X_test,y_train,y_test,filtered_data)\n",
    "    r2_score_test_br[v] = Ensemble_Bagging_Regression(X_train,X_test,y_train,y_test,filtered_data)\n",
    "    r2_score_test_nn[v] = Neural_Network_Regression(X_train,X_test,y_train,y_test,filtered_data)\n",
    "    r2_score_test_rf[v] = Random_Forest_Regression(X_train,X_test,y_train,y_test,filtered_data)\n",
    "    \n",
    "   "
   ]
  },
  {
   "cell_type": "code",
   "execution_count": null,
   "id": "3dd02d5b-01dd-416f-ad82-c739355782d9",
   "metadata": {},
   "outputs": [],
   "source": [
    "import pandas as pd\n",
    "\n",
    "models = [\n",
    "    \"Linear_Regression\",\n",
    "    \"Random_Forest_Regression\",\n",
    "    \"XGBoost_Regression\",\n",
    "    \"Decision_Tree_Regression\",\n",
    "    \"LGBM_Regression\",\n",
    "    \"Ensemble_Bagging_Regression\",\n",
    "    \"Neural_Network_Regression\",\n",
    "    \"Ridge_Regression\",\n",
    "    \"KNN_Regression\"\n",
    "]\n",
    "\n",
    "v_values = [\"pm1\", \"pm2_5\", \"pm4\", \"pm10\", \"pmTotal\", \"dCn\"]\n",
    "\n",
    "# Initialize a DataFrame to store the R^2 scores\n",
    "data = {\n",
    "    \"Model\": models\n",
    "}\n",
    "\n",
    "for v in v_values:\n",
    "    data[v] = [\n",
    "        r2_score_test_lr[v],\n",
    "        r2_score_test_rf[v],\n",
    "        r2_score_test_xgb[v],\n",
    "        r2_score_test_dt[v],\n",
    "        r2_score_test_lgbm[v],\n",
    "        r2_score_test_br[v],\n",
    "        r2_score_test_nn[v],\n",
    "        r2_score_test_rr[v],\n",
    "        r2_score_test_knn[v]\n",
    "    ]\n",
    "\n",
    "# Create the DataFrame\n",
    "r2_score_table = pd.DataFrame(data)\n",
    "\n",
    "# Sort the table by decreasing order of R^2 scores for each column in v_values\n",
    "for v in v_values:\n",
    "    r2_score_table = r2_score_table.sort_values(by=v, ascending=False)\n",
    "\n",
    "# Save the sorted table to a CSV file\n",
    "r2_score_table.to_csv(\"sorted_r2_score_table.csv\", index=False)\n",
    "\n",
    "# Display the sorted table\n",
    "print(r2_score_table)\n"
   ]
  }
 ],
 "metadata": {
  "kernelspec": {
   "display_name": "Python 3 (ipykernel)",
   "language": "python",
   "name": "python3"
  },
  "language_info": {
   "codemirror_mode": {
    "name": "ipython",
    "version": 3
   },
   "file_extension": ".py",
   "mimetype": "text/x-python",
   "name": "python",
   "nbconvert_exporter": "python",
   "pygments_lexer": "ipython3",
   "version": "3.10.2"
  }
 },
 "nbformat": 4,
 "nbformat_minor": 5
}
