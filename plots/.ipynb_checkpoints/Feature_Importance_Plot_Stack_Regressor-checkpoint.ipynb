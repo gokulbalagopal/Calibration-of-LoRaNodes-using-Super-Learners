{
 "cells": [
  {
   "cell_type": "code",
   "execution_count": 2,
   "id": "bb88eaac-dcbf-4d89-92f9-241149b79a8f",
   "metadata": {},
   "outputs": [],
   "source": [
    "def Feature_Importance_Stack_Regressor(model, filtered_data, v, unit, ml_type):\n",
    "    base_models = [estimator for name, estimator in model.named_estimators_.items()]\n",
    "\n",
    "    # Initialize a list to store feature importances\n",
    "    feature_importances = []\n",
    "\n",
    "    # Calculate feature importances for each base model\n",
    "    for i, base_model in enumerate(base_models):\n",
    "        if hasattr(base_model, 'feature_importances_'):\n",
    "            feature_importances.append(base_model.feature_importances_)\n",
    "\n",
    "    # Convert feature_importances list to a DataFrame for easier manipulation\n",
    "    importances_df = pd.DataFrame(feature_importances, columns=X_train.columns)\n",
    "\n",
    "    # Calculate the mean importance score across all base models\n",
    "    mean_importance = importances_df.mean()\n",
    "    mean_importance = mean_importance.sort_values(ascending=True)\n",
    "\n",
    "    # Map feature names to readable labels\n",
    "    feature_names = mean_importance.index.tolist()\n",
    "    sorted_feature_names = [dict_col_regression[n] for n in feature_names]\n",
    "\n",
    "    # Create the plot\n",
    "    plt.figure(figsize=(10, 6))\n",
    "    plt.barh(sorted_feature_names, mean_importance, color='#1f77b4')\n",
    "\n",
    "    # Add labels and title\n",
    "    plt.xlabel('Relative Importance', fontsize=14)\n",
    "    plt.ylabel('Features', fontsize=14)\n",
    "    plt.title(f'{dict_col_regression[v + \"Palas\"]} Feature Importance', fontsize=16, fontweight='bold')\n",
    "\n",
    "    # Adjust layout for automatic spacing\n",
    "    plt.tight_layout()\n",
    "\n",
    "    # Save and show the plot\n",
    "    plt.savefig(f'D:/UTD/UTDFall2023/Calibration-of-LoRaNodes-using-Super-Learners/plots/Feature Importance/feature_importance_plot_{ml_type}_{v}.png', format='png')\n",
    "    plt.show()\n"
   ]
  }
 ],
 "metadata": {
  "kernelspec": {
   "display_name": "Python 3 (ipykernel)",
   "language": "python",
   "name": "python3"
  },
  "language_info": {
   "codemirror_mode": {
    "name": "ipython",
    "version": 3
   },
   "file_extension": ".py",
   "mimetype": "text/x-python",
   "name": "python",
   "nbconvert_exporter": "python",
   "pygments_lexer": "ipython3",
   "version": "3.10.2"
  }
 },
 "nbformat": 4,
 "nbformat_minor": 5
}
