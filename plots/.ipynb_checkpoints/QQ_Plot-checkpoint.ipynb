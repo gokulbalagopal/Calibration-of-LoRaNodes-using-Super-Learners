{
 "cells": [
  {
   "cell_type": "code",
   "execution_count": 2,
   "id": "7c4e15ad-4b3c-4422-8aa5-2afa351aa28d",
   "metadata": {},
   "outputs": [],
   "source": [
    "import numpy as np\n",
    "import matplotlib.pyplot as plt\n",
    "from scipy import stats\n",
    "\n",
    "def qq_plot(test_df, v, unit, dict_col_regression, unit_regression):\n",
    "    actual_values = np.array(test_df['Actual'])\n",
    "    predicted_values = np.array(test_df['Predicted'])\n",
    "\n",
    "    # Calculate quantiles using scipy's probplot\n",
    "    (quantiles_actual, values_actual), _ = stats.probplot(actual_values, dist=\"norm\")\n",
    "    (quantiles_predicted, values_predicted), _ = stats.probplot(predicted_values, dist=\"norm\")\n",
    "\n",
    "    # Create the QQ plot\n",
    "    fig, ax = plt.subplots()\n",
    "    ax.scatter(quantiles_actual, quantiles_predicted, color='blue', marker='x', label='Data Points')\n",
    "\n",
    "    # Connect the 25th and 75th percentiles with a line\n",
    "    quantile_color = 'black'\n",
    "    ax.plot(quantiles_actual[[1, 3]], quantiles_predicted[[1, 3]], linestyle='--', color=quantile_color, label='25-75 Percentile Line')\n",
    "\n",
    "    # Extend the line beyond 25th and 75th percentiles\n",
    "    extension_factor = 2\n",
    "    extension_x1 = quantiles_actual[1] - extension_factor * (quantiles_actual[3] - quantiles_actual[1])\n",
    "    extension_y1 = quantiles_predicted[1] - extension_factor * (quantiles_predicted[3] - quantiles_predicted[1])\n",
    "    extension_x2 = quantiles_actual[3] + extension_factor * (quantiles_actual[3] - quantiles_actual[1])\n",
    "    extension_y2 = quantiles_predicted[3] + extension_factor * (quantiles_predicted[3] - quantiles_predicted[1])\n",
    "    ax.plot([extension_x1, extension_x2], [extension_y1, extension_y2], linestyle='--', color=quantile_color)\n",
    "\n",
    "    # Annotate quantiles\n",
    "    for i, txt in enumerate([\"0th\", \"25th\", \"50th\", \"75th\", \"100th\"]):\n",
    "        ax.annotate(txt, (quantiles_actual[i], quantiles_predicted[i]), textcoords=\"offset points\", xytext=(10, -10), color=quantile_color, ha='center', fontsize=8)\n",
    "\n",
    "    # Adjust plot limits\n",
    "    plt.xlim(min(quantiles_actual) - 1, max(quantiles_actual) + 1)\n",
    "    plt.ylim(min(quantiles_predicted) - 1, max(quantiles_predicted) + 1)\n",
    "\n",
    "    # Show the plot\n",
    "    plt.legend(loc='upper left')\n",
    "    plt.title('Quantile-Quantile Plot for ' + dict_col_regression[v + 'Palas'] + ' ' + unit_regression[unit])\n",
    "    plt.xlabel('Theoretical Quantiles (Actual)')\n",
    "    plt.ylabel('Ordered Values (Predicted)')\n",
    "    plt.show()\n",
    "\n",
    "# Replace 'test_df', 'v', 'unit', 'dict_col_regression', and 'unit_regression' with your actual data and variables\n",
    "# qq_plot(test_df, v, unit, dict_col_regression, unit_regression)\n"
   ]
  }
 ],
 "metadata": {
  "kernelspec": {
   "display_name": "Python 3 (ipykernel)",
   "language": "python",
   "name": "python3"
  },
  "language_info": {
   "codemirror_mode": {
    "name": "ipython",
    "version": 3
   },
   "file_extension": ".py",
   "mimetype": "text/x-python",
   "name": "python",
   "nbconvert_exporter": "python",
   "pygments_lexer": "ipython3",
   "version": "3.10.2"
  }
 },
 "nbformat": 4,
 "nbformat_minor": 5
}
