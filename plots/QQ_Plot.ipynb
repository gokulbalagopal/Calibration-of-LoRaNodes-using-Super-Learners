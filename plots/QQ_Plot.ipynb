{
 "cells": [
  {
   "cell_type": "code",
   "execution_count": 2,
   "id": "7c4e15ad-4b3c-4422-8aa5-2afa351aa28d",
   "metadata": {},
   "outputs": [],
   "source": [
    "def qq_plot(test_df,v, unit,ml_type):\n",
    "    actual_values = np.array(test_df['Actual'])\n",
    "    predicted_values = np.array(test_df['Predicted'])\n",
    "    # Calculate quantiles\n",
    "    quantiles_actual = np.percentile(actual_values, [0, 25, 50, 75,100])\n",
    "    quantiles_predicted = np.percentile(predicted_values, [0, 25, 50,75, 100])\n",
    "    \n",
    "    # Create a QQ plot\n",
    "    fig, ax = plt.subplots()\n",
    "    qqplot_2samples(actual_values, predicted_values, ax=ax)\n",
    "    ax.plot(quantiles_actual, quantiles_predicted, marker='x', linestyle='', color='black', label='Quantiles')\n",
    "    # Connect the 25th and 75th percentiles with a line\n",
    "    quantile_color = 'black'\n",
    "    ax.plot([quantiles_actual[1], quantiles_actual[3]], [quantiles_predicted[1], quantiles_predicted[3]], linestyle='--', color = quantile_color, label='25-75 Percentile Line')\n",
    "    # Extend the line beyond 25th percentile\n",
    "    extension_factor = 2\n",
    "    extension_x = quantiles_actual[1] - extension_factor * (quantiles_actual[3] - quantiles_actual[1])\n",
    "    extension_y = quantiles_predicted[1] - extension_factor * (quantiles_predicted[3] - quantiles_predicted[1])\n",
    "    ax.plot([quantiles_actual[1], extension_x], [quantiles_predicted[1], extension_y], linestyle='--', color = quantile_color)\n",
    "    \n",
    "    # Extend the line beyond 75th percentile\n",
    "    extension_x = quantiles_actual[3] + extension_factor * (quantiles_actual[3] - quantiles_actual[1])\n",
    "    extension_y = quantiles_predicted[3] + extension_factor * (quantiles_predicted[3] - quantiles_predicted[1])\n",
    "    ax.plot([quantiles_actual[3], extension_x], [quantiles_predicted[3], extension_y], linestyle='--', color = quantile_color)\n",
    "    \n",
    "    # Annotate quantiles\n",
    "    for i, txt in enumerate([\"0th\", \"25th\", \"50th\", \"75th\", \"100th\"]):\n",
    "        ax.annotate(txt, (quantiles_actual[i], quantiles_predicted[i]), textcoords=\"offset points\", xytext=(10,-10),color = quantile_color, ha='center', fontsize=8)\n",
    "    plt.xlim(0,max(quantiles_actual)+4)\n",
    "    plt.ylim(0,max(quantiles_predicted)+4)\n",
    "    # Show the plot\n",
    "    plt.legend(loc='upper left')\n",
    "    plt.title('Quantile - Quantile Plot for '+ dict_col_regression[v + 'Palas'] + ' '+ unit_regression[unit])\n",
    "    plt.xlabel('Actual Quantiles')\n",
    "    plt.ylabel('Estimated Quantiles')\n",
    "    plt.savefig('D:/UTD/UTDFall2023/Calibration-of-LoRaNodes-using-Super-Learners/plots/qqplots/'+'qq_plot_{}_{}.pdf'.format(ml_type, v), format='pdf')\n",
    "    #plt.savefig('D:/UTD/UTDFall2023/Calibration-of-LoRaNodes-using-Super-Learners/plots/qqplots/'+ml_type+'/unfiltered/'+'qq_plot_{}_{}.pdf'.format(ml_type, v), format='pdf')\n",
    "    plt.show()"
   ]
  }
 ],
 "metadata": {
  "kernelspec": {
   "display_name": "Python 3 (ipykernel)",
   "language": "python",
   "name": "python3"
  },
  "language_info": {
   "codemirror_mode": {
    "name": "ipython",
    "version": 3
   },
   "file_extension": ".py",
   "mimetype": "text/x-python",
   "name": "python",
   "nbconvert_exporter": "python",
   "pygments_lexer": "ipython3",
   "version": "3.10.2"
  }
 },
 "nbformat": 4,
 "nbformat_minor": 5
}
