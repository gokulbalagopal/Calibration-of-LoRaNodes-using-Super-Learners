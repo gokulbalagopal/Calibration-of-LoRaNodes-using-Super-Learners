{
 "cells": [
  {
   "cell_type": "code",
   "execution_count": null,
   "id": "bb88eaac-dcbf-4d89-92f9-241149b79a8f",
   "metadata": {},
   "outputs": [],
   "source": [
    "def Feature_Importance_Linear_Regressor(lm, filtered_data,v,unit,ml_type):\n",
    "    feature_importances = lm.coef_\n",
    "    print(feature_importances)   \n",
    "        \n",
    "    # # Get feature names (you may have a predefined list of feature names)\n",
    "    feature_names = [f\"{dict_col_regression[i]}\" for i in X_train.columns]\n",
    "    print(feature_names)\n",
    "    # Sort features by importance\n",
    "    sorted_indices = np.argsort(feature_importances)[::-1]\n",
    "    sorted_feature_importances = np.abs(feature_importances[sorted_indices])\n",
    "    sorted_feature_names = [feature_names[i] for i in sorted_indices]\n",
    "    \n",
    "    # Create a horizontal bar chart for feature importance\n",
    "    plt.figure(figsize=(10, 6))\n",
    "    plt.barh(sorted_feature_names, sorted_feature_importances, color='blue')\n",
    "    plt.xlabel('Relative Importance')\n",
    "    plt.title('Feature Importance for ' + dict_col_regression[v + 'Palas'] + ' '+ unit_regression[unit] )\n",
    "    plt.show()\n"
   ]
  }
 ],
 "metadata": {
  "kernelspec": {
   "display_name": "Python 3 (ipykernel)",
   "language": "python",
   "name": "python3"
  },
  "language_info": {
   "codemirror_mode": {
    "name": "ipython",
    "version": 3
   },
   "file_extension": ".py",
   "mimetype": "text/x-python",
   "name": "python",
   "nbconvert_exporter": "python",
   "pygments_lexer": "ipython3",
   "version": "3.12.1"
  }
 },
 "nbformat": 4,
 "nbformat_minor": 5
}
