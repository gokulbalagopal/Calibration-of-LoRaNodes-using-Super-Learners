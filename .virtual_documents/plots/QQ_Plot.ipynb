def qq_plot(test_df, v, unit, ml_type):
    import matplotlib.pyplot as plt
    import numpy as np
    from statsmodels.graphics.gofplots import qqplot_2samples

    actual_values = np.array(test_df['Actual'])
    predicted_values = np.array(test_df['Predicted'])

    # Calculate quantiles
    quantiles_actual = np.percentile(actual_values, [0, 25, 50, 75, 100])
    quantiles_predicted = np.percentile(predicted_values, [0, 25, 50, 75, 100])

    # Define colors for percentiles
    percentile_colors = ['pink', 'orange', 'green', 'red', 'purple']
    percentile_labels = ["0th Percentile", "25th Percentile", "50th Percentile", "75th Percentile", "100th Percentile"]

    # Create a QQ plot with a specified figure size
    fig, ax = plt.subplots(figsize=(6, 6))  # Set figure size to 6x6 inches
    qqplot_2samples(actual_values, predicted_values, ax=ax)

    # Add colored diamond markers for percentiles with z-order to place them on top
    for i in range(len(quantiles_actual)):
        ax.scatter(
            quantiles_actual[i],
            quantiles_predicted[i],
            color=percentile_colors[i],
            marker='D',
            label=percentile_labels[i],
            s=60,  # Diamond marker with larger size
            zorder=5  # Ensure markers are on top
        )

    # Set plot limits
    max_val = max(max(quantiles_actual), max(quantiles_predicted))
    plot_limit = max_val + 5
    plt.xlim(0, plot_limit)
    plt.ylim(0, plot_limit)

    # Plot the extended 1:1 line from (0, 0) to (plot_limit, plot_limit)
    ax.plot(
        [0, plot_limit],
        [0, plot_limit],
        linestyle='--', color='grey', linewidth=1.5, label='', zorder=1
    )

    # Add title with bold font
    plt.title(dict_col_regression[v + 'Palas'] + ' Quantile - Quantile Plot', fontsize=15, fontweight="bold")

    # Bold and larger x-axis and y-axis labels
    plt.xlabel(
        'Actual ' + dict_col_regression[v + 'Palas'] + ' ' + unit_regression.get(unit, ''),
        fontsize=13,
        fontweight='bold'
    )
    plt.ylabel(
        'Predicted ' + dict_col_regression[v + 'Palas'] + ' ' + unit_regression.get(unit, ''),
        fontsize=13,
        fontweight='bold'
    )

    # Customize legend to use bold font
    legend = plt.legend(loc='upper left', fontsize=10)
    for text in legend.get_texts():
        text.set_fontweight('bold')

    # Save the plot
    plt.savefig(
        f'D:/UTD/UTDFall2023/Calibration-of-LoRaNodes-using-Super-Learners/plots/qqplots/qq_plot_{ml_type}_{v}.png',
        format='png',
        dpi=300
    )

    # Show the plot
    plt.show()

