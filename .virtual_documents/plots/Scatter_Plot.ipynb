def Scatter_Plot(combined_df, train_df, test_df, r2_score_train, r2_score_test, v, unit, ml_type):
    import matplotlib.pyplot as plt
    import seaborn as sns

    # Set the font family globally to match the earlier plot
    plt.rcParams['font.family'] = 'DejaVu Sans'  # Or any other sans-serif font

    # Calculate the counts of training and testing data
    train_count = f"{len(train_df):,}"  # Format with commas
    test_count = f"{len(test_df):,}"  # Format with commas

    # Create the jointplot
    g = sns.jointplot(
        data=combined_df,
        x="Actual",
        y="Predicted",
        hue="Category",
        kind="scatter",
        legend=False,
        palette=['orange', '#1f77b4']
    )

    # Scatter plots for training and testing data with counts in the label
    sns.scatterplot(
        data=train_df,
        x="Actual",
        y="Predicted",
        label=f"Training Data (n = {train_count}), R$^2$ = {r2_score_train:.2f}",
        ax=g.ax_joint,
        color='#1f77b4'
    )
    sns.scatterplot(
        data=test_df,
        x="Actual",
        y="Predicted",
        label=f"Testing Data (n = {test_count}), R$^2$ = {r2_score_test:.2f}",
        ax=g.ax_joint,
        color='orange'
    )

    # Calculate plot limits
    max_limit = max(combined_df["Actual"].max(), combined_df["Predicted"].max()) + 1

    # Plot the 1:1 line starting from (0, 0) to (max_limit, max_limit)
    sns.lineplot(
        x=[0, max_limit],
        y=[0, max_limit],
        ax=g.ax_joint,
        linestyle='--', 
        color='grey',
        label='1:1 line',
        linewidth=1.5
    )

    # Set plot limits
    g.ax_joint.set_xlim(0, max_limit)
    g.ax_joint.set_ylim(0, max_limit)

    # Adding labels with bold font
    g.ax_joint.set_xlabel(
        "Actual " + dict_col_regression.get(v + "Palas", "") + " " + unit_regression.get(unit, ""),
        fontsize=14,
        fontweight='bold'
    )
    g.ax_joint.set_ylabel(
        "Predicted " + dict_col_regression.get(v + "Palas", "") + " " + unit_regression.get(unit, ""),
        fontsize=14,
        fontweight='bold'
    )

    # Add a suptitle above the plot with larger font
    g.fig.suptitle(
        dict_col_regression.get(v + "Palas", "") + " Scatter Plot",
        fontsize=16,
        fontweight="bold",
        y=1.05  # Adjust the position to move the title further above the plot
    )

    # Customize legend to use bold font
    legend = g.ax_joint.legend(loc='upper left', fontsize=8)
    for text in legend.get_texts():
        text.set_fontweight('bold')

    # Adjust layout to prevent overlap and ensure a good figure appearance
    plt.tight_layout()

    # Save the plot as a PNG file
    g.fig.savefig(
        f'D:/UTD/UTDFall2023/Calibration-of-LoRaNodes-using-Super-Learners/plots/scatterplots/scatter_plot_{ml_type}_{v}.png',
        dpi=300,
        bbox_inches='tight'
    )

    # Show the plot (optional)
    plt.show()

