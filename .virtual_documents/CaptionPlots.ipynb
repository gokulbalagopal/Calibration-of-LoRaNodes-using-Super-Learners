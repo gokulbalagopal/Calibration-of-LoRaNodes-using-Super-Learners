import matplotlib.pyplot as plt
import matplotlib.image as mpimg
from matplotlib import rcParams

# Set sans-serif font for the entire plot
rcParams['font.family'] = 'sans-serif'
rcParams['font.sans-serif'] = ['Arial']  # You can change this to any sans-serif font

# List of image file paths
images =  ['D://UTD//UTDSpring2024//Temporal_Variograms//firmware//hr_pm_concentration_01_02_2023.png',
           'D://UTD//UTDSpring2024//Temporal_Variograms//firmware//sec_pm2_5_plot_01_02_2023.png', 
           'D://UTD//UTDSpring2024//Temporal_Variograms//firmware//hr_pm_concentration_01_29_2023.png',
           'D://UTD//UTDSpring2024//Temporal_Variograms//firmware//sec_pm2_5_plot_01_29_2023.png', 
           'D://UTD//UTDSpring2024//Temporal_Variograms//firmware//hr_pm_concentration_01_24_2023.png',
           'D://UTD//UTDSpring2024//Temporal_Variograms//firmware//sec_pm2_5_plot_01_24_2023.png', 
           ]
captions = ['(a)', '(b)', '(c)', '(d)', '(e)', '(f)']

# Create a figure with 3 rows and 2 columns, and set DPI to improve image clarity
fig, axes = plt.subplots(3, 2, figsize=(8, 12), dpi=300)  # 3 rows, 2 columns, high DPI

# Flatten the axes for easy iteration
axes = axes.flatten()

# Loop through each image and plot it
for i, ax in enumerate(axes):
    img = mpimg.imread(images[i])
    ax.imshow(img, aspect='auto')  # Preserve the aspect ratio of the image
    ax.set_xticks([])  # Remove x-axis ticks
    ax.set_yticks([])  # Remove y-axis ticks
    ax.spines['top'].set_visible(False)  # Remove top spine
    ax.spines['right'].set_visible(False)  # Remove right spine
    ax.spines['left'].set_visible(False)  # Remove left spine
    ax.spines['bottom'].set_visible(False)  # Remove bottom spine
    # Set caption with reduced space and centered alignment
    ax.set_xlabel(captions[i], fontsize=14, labelpad=5, ha='center', x=0.5)  # Reduce labelpad to move closer to image

# Adjust layout to reduce vertical space between rows
plt.tight_layout(h_pad= 5)  # Reduce h_pad to minimize the space between rows

# Save as high-quality PNG to avoid compression artifacts
plt.savefig('Joppa_time series_plots.png', format='png', dpi=300)

plt.show()



import matplotlib.pyplot as plt
import matplotlib.image as mpimg
from matplotlib import rcParams

# Set sans-serif font for the entire plot
rcParams['font.family'] = 'sans-serif'
rcParams['font.sans-serif'] = ['Arial']  # You can change this to any sans-serif font

# List of image file paths
images = ['C://Users//balag//Downloads//02nd_jan_win_10.png', 
          'C://Users//balag//Downloads//02nd_jan_win_50k.png',
          'C://Users//balag//Downloads//29th_jan_win_10.png', 
          'C://Users//balag//Downloads//29th_jan_win_50k.png',
          'C://Users//balag//Downloads//24th_jan_win_10.png', 
          'C://Users//balag//Downloads//24th_jan_win_50k.png', 

          ]
captions = ['(a)', '(b)', '(c)', '(d)', '(e)', '(f)']

# Create a figure with 3 rows and 2 columns, and set DPI to improve image clarity
fig, axes = plt.subplots(3, 2, figsize=(8, 12), dpi=300)  # 3 rows, 2 columns, high DPI

# Flatten the axes for easy iteration
axes = axes.flatten()

# Loop through each image and plot it
for i, ax in enumerate(axes):
    img = mpimg.imread(images[i])
    ax.imshow(img, aspect='auto')  # Preserve the aspect ratio of the image
    ax.set_xticks([])  # Remove x-axis ticks
    ax.set_yticks([])  # Remove y-axis ticks
    ax.spines['top'].set_visible(False)  # Remove top spine
    ax.spines['right'].set_visible(False)  # Remove right spine
    ax.spines['left'].set_visible(False)  # Remove left spine
    ax.spines['bottom'].set_visible(False)  # Remove bottom spine
    # Set caption with reduced space and centered alignment
    ax.set_xlabel(captions[i], fontsize=14, labelpad=0.5, ha='center', x=0.42)  # Reduce labelpad to move closer to image

# Adjust layout to reduce vertical space between rows
plt.tight_layout(h_pad= 5)  # Reduce h_pad to minimize the space between rows

# Save as high-quality PNG to avoid compression artifacts
plt.savefig('Combined_Variogram_Plots.png', format='png', dpi=300)

plt.show()



import matplotlib.pyplot as plt
import matplotlib.image as mpimg
from matplotlib import rcParams

# Set sans-serif font for the entire plot
rcParams['font.family'] = 'sans-serif'
rcParams['font.sans-serif'] = ['Arial']  # You can change this to any sans-serif font

# List of image file paths
images = ['C://Users//balag//Downloads//24th_jan_win_10.png', 
          'C://Users//balag//Downloads//24th_jan_win_50k.png', 
          'C://Users//balag//Downloads//29th_jan_win_10.png', 
          'C://Users//balag//Downloads//29th_jan_win_50k.png',
          'C://Users//balag//Downloads//02nd_jan_win_10.png', 
          'C://Users//balag//Downloads//02nd_jan_win_50k.png']
captions = ['(a)', '(b)', '(c)', '(d)', '(e)', '(f)']

# Create a figure with 3 rows and 2 columns, and set DPI to improve image clarity
fig, axes = plt.subplots(3, 2, figsize=(8, 12), dpi=300)  # 3 rows, 2 columns, high DPI

# Flatten the axes for easy iteration
axes = axes.flatten()

# Loop through each image and plot it
for i, ax in enumerate(axes):
    img = mpimg.imread(images[i])
    ax.imshow(img, aspect='auto')  # Preserve the aspect ratio of the image
    ax.set_xticks([])  # Remove x-axis ticks
    ax.set_yticks([])  # Remove y-axis ticks
    ax.spines['top'].set_visible(False)  # Remove top spine
    ax.spines['right'].set_visible(False)  # Remove right spine
    ax.spines['left'].set_visible(False)  # Remove left spine
    ax.spines['bottom'].set_visible(False)  # Remove bottom spine
    # Set caption with reduced space and centered alignment
    ax.set_xlabel(captions[i], fontsize=14, labelpad=0.5, ha='center', x=0.42)  # Reduce labelpad to move closer to image

# Adjust layout to reduce vertical space between rows
plt.tight_layout(h_pad= 5)  # Reduce h_pad to minimize the space between rows

# Save as high-quality PNG to avoid compression artifacts
plt.savefig('output_image_reduced_space.png', format='png', dpi=300)

plt.show()



import matplotlib.pyplot as plt
import matplotlib.image as mpimg
from matplotlib import rcParams

# Set sans-serif font for the entire plot
rcParams['font.family'] = 'sans-serif'
rcParams['font.sans-serif'] = ['Arial']  # You can change this to any sans-serif font

# List of image file paths
images = ['D://UTD//UTDSpring2024//Temporal_Variograms//firmware//scatter_plot_with_distribution_0_1.png', 
          'D://UTD//UTDSpring2024//Temporal_Variograms//firmware//scatter_plot_with_distribution_0_3.png',
          'D://UTD//UTDSpring2024//Temporal_Variograms//firmware//scatter_plot_with_distribution_0_5.png', 
          'D://UTD//UTDSpring2024//Temporal_Variograms//firmware//scatter_plot_with_distribution_1_0.png',
          'D://UTD//UTDSpring2024//Temporal_Variograms//firmware//scatter_plot_with_distribution_2_5.png', 
          'D://UTD//UTDSpring2024//Temporal_Variograms//firmware//scatter_plot_with_distribution_5_0.png',
          'D://UTD//UTDSpring2024//Temporal_Variograms//firmware//scatter_plot_with_distribution_10_0.png']
captions = ['(a)', '(b)', '(c)', '(d)', '(e)', '(f)']

# Create a figure with 3 rows and 2 columns, and set DPI to improve image clarity
fig, axes = plt.subplots(3, 2, figsize=(8, 12), dpi=300)  # 3 rows, 2 columns, high DPI

# Flatten the axes for easy iteration
axes = axes.flatten()

# Loop through each image and plot it
for i, ax in enumerate(axes):
    img = mpimg.imread(images[i])
    ax.imshow(img, aspect='auto')  # Preserve the aspect ratio of the image
    ax.set_xticks([])  # Remove x-axis ticks
    ax.set_yticks([])  # Remove y-axis ticks
    ax.spines['top'].set_visible(False)  # Remove top spine
    ax.spines['right'].set_visible(False)  # Remove right spine
    ax.spines['left'].set_visible(False)  # Remove left spine
    ax.spines['bottom'].set_visible(False)  # Remove bottom spine
    # Set caption with reduced space and centered alignment
    ax.set_xlabel(captions[i], fontsize=14, labelpad=0.5, ha='center', x=0.42)  # Reduce labelpad to move closer to image

# Adjust layout to reduce vertical space between rows
plt.tight_layout(h_pad= 5)  # Reduce h_pad to minimize the space between rows

# Save as high-quality PNG to avoid compression artifacts
plt.savefig('scatter_plot_with_distribution.png', format='png', dpi=300)

plt.show()



import matplotlib.pyplot as plt
import matplotlib.image as mpimg
from matplotlib import rcParams

# Set sans-serif font for the entire plot
rcParams['font.family'] = 'sans-serif'
rcParams['font.sans-serif'] = ['Arial']  # You can change this to any sans-serif font

# List of image file paths
images = ['D://UTD//UTDSpring2024//Temporal_Variograms//firmware//permutation_importance_ranking_0_1.png', 
          'D://UTD//UTDSpring2024//Temporal_Variograms//firmware//permutation_importance_ranking_0_3.png',
          'D://UTD//UTDSpring2024//Temporal_Variograms//firmware//permutation_importance_ranking_0_5.png', 
          'D://UTD//UTDSpring2024//Temporal_Variograms//firmware//permutation_importance_ranking_1_0.png',
          'D://UTD//UTDSpring2024//Temporal_Variograms//firmware//permutation_importance_ranking_2_5.png', 
          'D://UTD//UTDSpring2024//Temporal_Variograms//firmware//permutation_importance_ranking_5_0.png',
          'D://UTD//UTDSpring2024//Temporal_Variograms//firmware//permutation_importance_ranking_10_0.png']
captions = ['(a)', '(b)', '(c)', '(d)', '(e)', '(f)']

# Create a figure with 3 rows and 2 columns, and set DPI to improve image clarity
fig, axes = plt.subplots(3, 2, figsize=(8, 12), dpi=300)  # 3 rows, 2 columns, high DPI

# Flatten the axes for easy iteration
axes = axes.flatten()

# Loop through each image and plot it
for i, ax in enumerate(axes):
    img = mpimg.imread(images[i])
    ax.imshow(img, aspect='auto')  # Preserve the aspect ratio of the image
    ax.set_xticks([])  # Remove x-axis ticks
    ax.set_yticks([])  # Remove y-axis ticks
    ax.spines['top'].set_visible(False)  # Remove top spine
    ax.spines['right'].set_visible(False)  # Remove right spine
    ax.spines['left'].set_visible(False)  # Remove left spine
    ax.spines['bottom'].set_visible(False)  # Remove bottom spine
    # Set caption with reduced space and centered alignment
    ax.set_xlabel(captions[i], fontsize=14, labelpad=0.5, ha='center', x=0.55)  # Reduce labelpad to move closer to image

# Adjust layout to reduce vertical space between rows
plt.tight_layout(h_pad= 5)  # Reduce h_pad to minimize the space between rows

# Save as high-quality PNG to avoid compression artifacts
plt.savefig('permutation_importance_ranking.png', format='png', dpi=300)

plt.show()



import matplotlib.pyplot as plt
import matplotlib.image as mpimg
from matplotlib import rcParams

# Set sans-serif font for the entire plot
rcParams['font.family'] = 'sans-serif'
rcParams['font.sans-serif'] = ['Arial']  # You can change this to any sans-serif font

# List of image file paths
images = ['D://UTD//UTDSpring2024//Temporal_Variograms//firmware//scatter_plot_with_distribution_0_1.png', 
          'D://UTD//UTDSpring2024//Temporal_Variograms//firmware//scatter_plot_with_distribution_0_3.png',
          'D://UTD//UTDSpring2024//Temporal_Variograms//firmware//scatter_plot_with_distribution_0_5.png', 
          'D://UTD//UTDSpring2024//Temporal_Variograms//firmware//scatter_plot_with_distribution_1_0.png',
          'D://UTD//UTDSpring2024//Temporal_Variograms//firmware//scatter_plot_with_distribution_2_5.png', 
          'D://UTD//UTDSpring2024//Temporal_Variograms//firmware//scatter_plot_with_distribution_5_0.png',
          'D://UTD//UTDSpring2024//Temporal_Variograms//firmware//scatter_plot_with_distribution_10_0.png']
captions = ['(a)', '(b)', '(c)', '(d)', '(e)', '(f)', '(g)']

# Create a 4x2 grid for 8 spaces, filling the 7th image in the center of the 4th row
fig, axes = plt.subplots(4, 2, figsize=(10,17), dpi=300)

# Flatten the axes for easy iteration and set an empty spot
axes = axes.flatten()

# Loop through each image and plot it
for i, ax in enumerate(axes):
    if i < 7:  # Plot images only for the first 7 axes
        img = mpimg.imread(images[i])
        ax.imshow(img, aspect='auto')  # Preserve the aspect ratio of the image
        ax.set_xticks([])  # Remove x-axis ticks
        ax.set_yticks([])  # Remove y-axis ticks
        ax.spines['top'].set_visible(False)  # Remove top spine
        ax.spines['right'].set_visible(False)  # Remove right spine
        ax.spines['left'].set_visible(False)  # Remove left spine
        ax.spines['bottom'].set_visible(False)  # Remove bottom spine
        # Set caption with reduced space and centered alignment
        ax.set_xlabel(captions[i], fontsize=14, labelpad=0.5, ha='center', x=0.42)
    else:
        ax.axis('off')  # Hide the 8th subplot

# Adjust layout to reduce vertical space between rows
plt.tight_layout(h_pad=5)  # Adjust h_pad to control space between rows

# Save as high-quality PNG to avoid compression artifacts
plt.savefig('scatter_plot_with_distribution.png', format='png', dpi=300)

plt.show()



import matplotlib.pyplot as plt
import matplotlib.image as mpimg
from matplotlib import rcParams

# Set sans-serif font for the entire plot
rcParams['font.family'] = 'sans-serif'
rcParams['font.sans-serif'] = ['Arial']  # You can change this to any sans-serif font

# List of image file paths
images =  ['D://UTD//UTDSpring2024//Temporal_Variograms//firmware//permutation_importance_ranking_0_1.png', 
          'D://UTD//UTDSpring2024//Temporal_Variograms//firmware//permutation_importance_ranking_0_3.png',
          'D://UTD//UTDSpring2024//Temporal_Variograms//firmware//permutation_importance_ranking_0_5.png', 
          'D://UTD//UTDSpring2024//Temporal_Variograms//firmware//permutation_importance_ranking_1_0.png',
          'D://UTD//UTDSpring2024//Temporal_Variograms//firmware//permutation_importance_ranking_2_5.png', 
          'D://UTD//UTDSpring2024//Temporal_Variograms//firmware//permutation_importance_ranking_5_0.png',
          'D://UTD//UTDSpring2024//Temporal_Variograms//firmware//permutation_importance_ranking_10_0.png']
captions = ['(a)', '(b)', '(c)', '(d)', '(e)', '(f)', '(g)']

# Create a 4x2 grid for 8 spaces, filling the 7th image in the center of the 4th row
fig, axes = plt.subplots(4, 2, figsize=(10,14), dpi=300)

# Flatten the axes for easy iteration and set an empty spot
axes = axes.flatten()

# Loop through each image and plot it
for i, ax in enumerate(axes):
    if i < 7:  # Plot images only for the first 7 axes
        img = mpimg.imread(images[i])
        ax.imshow(img, aspect='auto')  # Preserve the aspect ratio of the image
        ax.set_xticks([])  # Remove x-axis ticks
        ax.set_yticks([])  # Remove y-axis ticks
        ax.spines['top'].set_visible(False)  # Remove top spine
        ax.spines['right'].set_visible(False)  # Remove right spine
        ax.spines['left'].set_visible(False)  # Remove left spine
        ax.spines['bottom'].set_visible(False)  # Remove bottom spine
        # Set caption with reduced space and centered alignment
        ax.set_xlabel(captions[i], fontsize=14, labelpad=0.5, ha='center', x=0.50)
    else:
        ax.axis('off')  # Hide the 8th subplot

# Adjust layout to reduce vertical space between rows
plt.tight_layout(h_pad=5)  # Adjust h_pad to control space between rows

# Save as high-quality PNG to avoid compression artifacts
plt.savefig('permutation_importance_ranking.png', format='png', dpi=300)

plt.show()



import matplotlib.pyplot as plt
import matplotlib.image as mpimg
from matplotlib import rcParams

# Set sans-serif font for the entire plot
rcParams['font.family'] = 'sans-serif'
rcParams['font.sans-serif'] = ['Arial']  # You can change this to any sans-serif font

# List of image file paths
images = [
    'D://UTD//UTDFall2023//Calibration-of-LoRaNodes-using-Super-Learners//plots//scatterplots//scatter_plot_SL_pm1.png', 
    'D://UTD//UTDFall2023//Calibration-of-LoRaNodes-using-Super-Learners//plots//scatterplots//scatter_plot_SL_pm2_5.png',
    'D://UTD//UTDFall2023//Calibration-of-LoRaNodes-using-Super-Learners//plots//scatterplots//scatter_plot_SL_pm4.png', 
    'D://UTD//UTDFall2023//Calibration-of-LoRaNodes-using-Super-Learners//plots//scatterplots//scatter_plot_SL_pm10.png',
    'D://UTD//UTDFall2023//Calibration-of-LoRaNodes-using-Super-Learners//plots//scatterplots//scatter_plot_SL_pmTotal.png',
    'D://UTD//UTDFall2023//Calibration-of-LoRaNodes-using-Super-Learners//plots//scatterplots//scatter_plot_SL_dCn.png'
]
captions = ['(a)', '(b)', '(c)', '(d)', '(e)', '(f)']

# Create a figure with 3 rows and 2 columns
fig, axes = plt.subplots(3, 2, figsize=(10, 15), dpi=300)  # Adjusted size for better visibility

# Flatten the axes for easy iteration
axes = axes.flatten()

# Loop through each image and plot it
for i, ax in enumerate(axes):
    if i < len(images):  # Only plot if there's an image available
        img = mpimg.imread(images[i])
        ax.imshow(img, aspect='auto')  # Preserve the aspect ratio of the image
        ax.set_xticks([])  # Remove x-axis ticks
        ax.set_yticks([])  # Remove y-axis ticks
        ax.spines['top'].set_visible(False)  # Remove top spine
        ax.spines['right'].set_visible(False)  # Remove right spine
        ax.spines['left'].set_visible(False)  # Remove left spine
        ax.spines['bottom'].set_visible(False)  # Remove bottom spine
        # Set caption below the image
        ax.set_xlabel(captions[i], fontsize=14, labelpad=5, ha='center')  # Adjust labelpad for proper spacing
    else:  # Hide unused subplots
        ax.axis('off')

# Adjust layout to reduce vertical space between rows
plt.tight_layout(h_pad=3, w_pad=3)  # Adjust h_pad and w_pad for balanced spacing

# Save as high-quality PNG to avoid compression artifacts
plt.savefig('D://UTD//UTDFall2023//Calibration-of-LoRaNodes-using-Super-Learners//calibrated_scatter_plot_with_distribution.png', format='png', dpi=300)

# Show the plot
plt.show()



import matplotlib.pyplot as plt
import matplotlib.image as mpimg
from matplotlib import rcParams

# Set sans-serif font for the entire plot
rcParams['font.family'] = 'sans-serif'
rcParams['font.sans-serif'] = ['Arial']  # You can change this to any sans-serif font

# List of image file paths
images = [
    'D://UTD//UTDFall2023//Calibration-of-LoRaNodes-using-Super-Learners//plots//qqplots//qq_plot_SL_pm1.png', 
    'D://UTD//UTDFall2023//Calibration-of-LoRaNodes-using-Super-Learners//plots//qqplots//qq_plot_SL_pm2_5.png',
    'D://UTD//UTDFall2023//Calibration-of-LoRaNodes-using-Super-Learners//plots//qqplots//qq_plot_SL_pm4.png', 
    'D://UTD//UTDFall2023//Calibration-of-LoRaNodes-using-Super-Learners//plots//qqplots//qq_plot_SL_pm10.png',
    'D://UTD//UTDFall2023//Calibration-of-LoRaNodes-using-Super-Learners//plots//qqplots//qq_plot_SL_pmTotal.png',
    'D://UTD//UTDFall2023//Calibration-of-LoRaNodes-using-Super-Learners//plots//qqplots//qq_plot_SL_dCn.png'
]
captions = ['(a)', '(b)', '(c)', '(d)', '(e)', '(f)']

# Create a 3x2 grid
fig, axes = plt.subplots(3, 2, figsize=(10, 15), dpi=300)

# Flatten the axes for easy iteration
axes = axes.flatten()

# Loop through each image and plot it
for i, ax in enumerate(axes):
    if i < len(images):  # Plot images only for the available images
        img = mpimg.imread(images[i])
        ax.imshow(img, aspect='auto')  # Preserve the aspect ratio of the image
        ax.set_xticks([])  # Remove x-axis ticks
        ax.set_yticks([])  # Remove y-axis ticks
        ax.spines['top'].set_visible(False)  # Remove top spine
        ax.spines['right'].set_visible(False)  # Remove right spine
        ax.spines['left'].set_visible(False)  # Remove left spine
        ax.spines['bottom'].set_visible(False)  # Remove bottom spine
        # Set caption with reduced space and centered alignment
        ax.set_xlabel(captions[i], fontsize=14, labelpad=0, ha='center')  # Reduced labelpad to bring captions closer
    else:
        ax.axis('off')  # Hide extra subplots

# Adjust layout to prevent overlapping and clipping
plt.tight_layout(h_pad=5, w_pad=5)
fig.subplots_adjust(bottom=0.1)  # Increase bottom margin to avoid clipping x-axis labels

# Save as high-quality PNG
plt.savefig('D://UTD//UTDFall2023//Calibration-of-LoRaNodes-using-Super-Learners//calibrated_qq_plot.png', 
            format='png', dpi=300, bbox_inches='tight')

plt.show()



import matplotlib.pyplot as plt
import matplotlib.image as mpimg
from matplotlib import rcParams

# Set sans-serif font for the entire plot
rcParams['font.family'] = 'sans-serif'
rcParams['font.sans-serif'] = ['Arial']  # You can change this to any sans-serif font

# List of image file paths
images = [
    'D://UTD//UTDFall2023//Calibration-of-LoRaNodes-using-Super-Learners//plots//Permutation Importance//permutation_importance_plot_SL_pm1.png', 
    'D://UTD//UTDFall2023//Calibration-of-LoRaNodes-using-Super-Learners//plots//Permutation Importance//permutation_importance_plot_SL_pm2_5.png',
    'D://UTD//UTDFall2023//Calibration-of-LoRaNodes-using-Super-Learners//plots//Permutation Importance//permutation_importance_plot_SL_pm4.png', 
    'D://UTD//UTDFall2023//Calibration-of-LoRaNodes-using-Super-Learners//plots//Permutation Importance//permutation_importance_plot_SL_pm10.png',
    'D://UTD//UTDFall2023//Calibration-of-LoRaNodes-using-Super-Learners//plots//Permutation Importance//permutation_importance_plot_SL_pmTotal.png',
    'D://UTD//UTDFall2023//Calibration-of-LoRaNodes-using-Super-Learners//plots//Permutation Importance//permutation_importance_plot_SL_dCn.png'
]
captions = ['(a)', '(b)', '(c)', '(d)', '(e)', '(f)']

# Create a 4x2 grid for 8 spaces, filling the 7th image in the center of the 4th row
fig, axes = plt.subplots(3, 2, figsize=(10,14), dpi=300)

# Flatten the axes for easy iteration and set an empty spot
axes = axes.flatten()

# Loop through each image and plot it
for i, ax in enumerate(axes):
    if i < 7:  # Plot images only for the first 7 axes
        img = mpimg.imread(images[i])
        ax.imshow(img, aspect='auto')  # Preserve the aspect ratio of the image
        ax.set_xticks([])  # Remove x-axis ticks
        ax.set_yticks([])  # Remove y-axis ticks
        ax.spines['top'].set_visible(False)  # Remove top spine
        ax.spines['right'].set_visible(False)  # Remove right spine
        ax.spines['left'].set_visible(False)  # Remove left spine
        ax.spines['bottom'].set_visible(False)  # Remove bottom spine
        # Set caption with reduced space and centered alignment
        ax.set_xlabel(captions[i], fontsize=14, labelpad=1.5, ha='center', x=0.65)
    else:
        ax.axis('off')  # Hide the 8th subplot

# Adjust layout to reduce vertical space between rows
plt.tight_layout(h_pad=5)  # Adjust h_pad to control space between rows

# Save as high-quality PNG to avoid compression artifacts
plt.savefig('D://UTD//UTDFall2023//Calibration-of-LoRaNodes-using-Super-Learners//calibrated_permutation_importance_plot.png', format='png', dpi=300)

plt.show()



import matplotlib.pyplot as plt
import matplotlib.image as mpimg
from matplotlib import rcParams

# Set sans-serif font for the entire plot
rcParams['font.family'] = 'sans-serif'
rcParams['font.sans-serif'] = ['Arial']  # You can change this to any sans-serif font

# List of image file paths
images = [
    'D://UTD//UTDFall2023//Calibration-of-LoRaNodes-using-Super-Learners//plots//Error Distribution//error_distribution_plot_SL_pm1.png', 
    'D://UTD//UTDFall2023//Calibration-of-LoRaNodes-using-Super-Learners//plots//Error Distribution//error_distribution_plot_SL_pm2_5.png',
    'D://UTD//UTDFall2023//Calibration-of-LoRaNodes-using-Super-Learners//plots//Error Distribution//error_distribution_plot_SL_pm4.png', 
    'D://UTD//UTDFall2023//Calibration-of-LoRaNodes-using-Super-Learners//plots//Error Distribution//error_distribution_plot_SL_pm10.png',
    'D://UTD//UTDFall2023//Calibration-of-LoRaNodes-using-Super-Learners//plots//Error Distribution//error_distribution_plot_SL_pmTotal.png',
    'D://UTD//UTDFall2023//Calibration-of-LoRaNodes-using-Super-Learners//plots//Error Distribution//error_distribution_plot_SL_dCn.png'
]
captions = ['(a)', '(b)', '(c)', '(d)', '(e)', '(f)']

# Create a 4x2 grid for 8 spaces, filling the 7th image in the center of the 4th row
fig, axes = plt.subplots(3, 2, figsize=(10,14), dpi=300)

# Flatten the axes for easy iteration and set an empty spot
axes = axes.flatten()

# Loop through each image and plot it
for i, ax in enumerate(axes):
    if i < 7:  # Plot images only for the first 7 axes
        img = mpimg.imread(images[i])
        ax.imshow(img, aspect='auto')  # Preserve the aspect ratio of the image
        ax.set_xticks([])  # Remove x-axis ticks
        ax.set_yticks([])  # Remove y-axis ticks
        ax.spines['top'].set_visible(False)  # Remove top spine
        ax.spines['right'].set_visible(False)  # Remove right spine
        ax.spines['left'].set_visible(False)  # Remove left spine
        ax.spines['bottom'].set_visible(False)  # Remove bottom spine
        # Set caption with reduced space and centered alignment
        ax.set_xlabel(captions[i], fontsize=14, labelpad=1.5, ha='center', x=0.65)
    else:
        ax.axis('off')  # Hide the 8th subplot

# Adjust layout to reduce vertical space between rows
plt.tight_layout(h_pad=5)  # Adjust h_pad to control space between rows

# Save as high-quality PNG to avoid compression artifacts
plt.savefig('D://UTD//UTDFall2023//Calibration-of-LoRaNodes-using-Super-Learners//calibrated_error_distribution_plot.png', format='png', dpi=300)

plt.show()

