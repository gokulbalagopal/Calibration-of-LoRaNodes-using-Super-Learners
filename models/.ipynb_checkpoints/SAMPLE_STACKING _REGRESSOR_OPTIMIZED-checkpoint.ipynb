{
 "cells": [
  {
   "cell_type": "code",
   "execution_count": 22,
   "id": "b9ea213f-7a66-46bd-9055-6dbfc13d0530",
   "metadata": {},
   "outputs": [],
   "source": [
    "from skopt import gp_minimize\n",
    "from skopt.space import Real, Categorical, Integer\n",
    "from sklearn.ensemble import GradientBoostingRegressor, StackingRegressor\n",
    "from sklearn.metrics import r2_score\n",
    "import pickle"
   ]
  },
  {
   "cell_type": "code",
   "execution_count": 21,
   "id": "9d45b849-3e4d-4b42-b88f-b648438d4dc9",
   "metadata": {},
   "outputs": [],
   "source": [
    "# for v in ['pm1','pm2_5','pm4','pm10','pmTotal','dCn']\n",
    "def load_model(pickle_file):\n",
    "    with open(pickle_file, 'rb') as file:\n",
    "        model = pickle.load(file)\n",
    "    return model\n",
    "    \n",
    "# Load each base model\n",
    "model1 = load_model('D:/UTD/UTDFall2023/Calibration-of-LoRaNodes-using-Super-Learners/trained_model_nn.pkl')\n",
    "model2 = load_model('D:/UTD/UTDFall2023/Calibration-of-LoRaNodes-using-Super-Learners/trained_model_br.pkl')\n",
    "model3 = load_model('D:/UTD/UTDFall2023/Calibration-of-LoRaNodes-using-Super-Learners/trained_model_dt.pkl')\n",
    "model4 = load_model('D:/UTD/UTDFall2023/Calibration-of-LoRaNodes-using-Super-Learners/trained_model_rf.pkl')\n",
    "model5 = load_model('D:/UTD/UTDFall2023/Calibration-of-LoRaNodes-using-Super-Learners/trained_model_dt.pkl')"
   ]
  },
  {
   "cell_type": "code",
   "execution_count": 20,
   "id": "306276e6-8302-4a99-a510-b2cab3c6772e",
   "metadata": {},
   "outputs": [
    {
     "data": {
      "text/plain": [
       "{'pm1': RandomForestRegressor(max_depth=30, random_state=0),\n",
       " 'pm2_5': RandomForestRegressor(max_depth=25, random_state=0),\n",
       " 'pm4': RandomForestRegressor(max_depth=29, random_state=0),\n",
       " 'pm10': RandomForestRegressor(max_depth=29, random_state=0),\n",
       " 'pmTotal': RandomForestRegressor(max_depth=25, random_state=0),\n",
       " 'dCn': RandomForestRegressor(max_depth=25, random_state=0)}"
      ]
     },
     "execution_count": 20,
     "metadata": {},
     "output_type": "execute_result"
    }
   ],
   "source": [
    "# Define the stacked model\n",
    "for v in ['pm1','pm2_5','pm4','pm10','pmTotal','dCn']:\n",
    "\n",
    "stacked_model = StackingRegressor(\n",
    "    estimators=[\n",
    "        ('model1', model1[v]),\n",
    "        ('model2', model2[v]),\n",
    "        ('model3', model1[v]),\n",
    "        ('model4', model2[v]),\n",
    "        ('model5', model2[v]),\n",
    "    ],\n",
    "    final_estimator=LinearRegression()\n",
    ")"
   ]
  },
  {
   "cell_type": "code",
   "execution_count": 19,
   "id": "722c8ab7-a950-43ce-b907-bf67b92fd85d",
   "metadata": {},
   "outputs": [
    {
     "data": {
      "text/plain": [
       "{'pm1': {'hidden_layer_sizes': (63, 100, 87, 100, 62),\n",
       "  'activation': 'relu',\n",
       "  'alpha': 1e-05,\n",
       "  'learning_rate_init': 0.0037875794619546743,\n",
       "  'tol': 1e-05,\n",
       "  'batch_size': 139,\n",
       "  'momentum': 0.8029628393169184},\n",
       " 'pm2_5': {'hidden_layer_sizes': (21, 100, 100, 32, 40),\n",
       "  'activation': 'relu',\n",
       "  'alpha': 0.050249711678490384,\n",
       "  'learning_rate_init': 0.0029169372764931067,\n",
       "  'tol': 0.0009806954203967276,\n",
       "  'batch_size': 256,\n",
       "  'momentum': 0.9},\n",
       " 'pm4': {'hidden_layer_sizes': (100, 40, 63, 86, 26),\n",
       "  'activation': 'relu',\n",
       "  'alpha': 0.05251540013205834,\n",
       "  'learning_rate_init': 0.007211967869622959,\n",
       "  'tol': 1e-05,\n",
       "  'batch_size': 249,\n",
       "  'momentum': 0.7910303918787598},\n",
       " 'pm10': {'hidden_layer_sizes': (10, 95, 100, 61, 25),\n",
       "  'activation': 'relu',\n",
       "  'alpha': 1e-05,\n",
       "  'learning_rate_init': 0.018626558316552404,\n",
       "  'tol': 0.00114475290380076,\n",
       "  'batch_size': 204,\n",
       "  'momentum': 0.7302543935039502},\n",
       " 'pmTotal': {'hidden_layer_sizes': (41, 94, 87, 74, 15),\n",
       "  'activation': 'tanh',\n",
       "  'alpha': 0.0071060470417324195,\n",
       "  'learning_rate_init': 0.002539191995345486,\n",
       "  'tol': 1e-05,\n",
       "  'batch_size': 106,\n",
       "  'momentum': 0.8536337991282335},\n",
       " 'dCn': {'hidden_layer_sizes': (93, 76, 24, 100, 75),\n",
       "  'activation': 'relu',\n",
       "  'alpha': 0.043327571859048876,\n",
       "  'learning_rate_init': 0.005566544800750005,\n",
       "  'tol': 1e-05,\n",
       "  'batch_size': 190,\n",
       "  'momentum': 0.8897009052312974}}"
      ]
     },
     "execution_count": 19,
     "metadata": {},
     "output_type": "execute_result"
    }
   ],
   "source": [
    "# v = 'pm1'\n",
    "unpacked_params = {}\n",
    "\n",
    "# Unpack values for each regressor\n",
    "for key, reg in hyper_param_nn.items():\n",
    "    unpacked_params[key] = {\n",
    "        'hidden_layer_sizes': reg.hidden_layer_sizes,\n",
    "        'activation': reg.activation,\n",
    "        'alpha': reg.alpha,\n",
    "        'learning_rate_init': reg.learning_rate_init,\n",
    "        'tol': reg.tol,\n",
    "        'batch_size': reg.batch_size,\n",
    "        'momentum': getattr(reg, 'momentum', None)  # Using getattr to handle cases where momentum might not be set\n",
    "    }\n",
    "unpacked_params_nn"
   ]
  },
  {
   "cell_type": "code",
   "execution_count": null,
   "id": "cda6f998-b0af-4ef1-974d-aba4ad428958",
   "metadata": {},
   "outputs": [],
   "source": [
    "\n",
    "\n",
    "# Assume these are your optimally tuned base learners\n",
    "mlp = MLPRegressor(...)  # Use your optimal hyperparameters\n",
    "rf = RandomForestRegressor(...) \n",
    "br = BaggingRegressor(...) \n",
    "dt = DecisionTreeRegressor(...)\n",
    "\n",
    "# Define the objective function for Bayesian optimization\n",
    "def objective(params):\n",
    "    learning_rate, n_estimators, max_depth = params\n",
    "\n",
    "    # Create the meta learner with the given hyperparameters\n",
    "    meta_learner = GradientBoostingRegressor(learning_rate=learning_rate, \n",
    "                                             n_estimators=n_estimators, \n",
    "                                             max_depth=max_depth, \n",
    "                                             random_state=0)\n",
    "\n",
    "    # Create the stacking regressor using the fixed base learners and the meta learner\n",
    "    model = StackingRegressor(\n",
    "        estimators=[('mlp', mlp), ('rf', rf), ('br', br), ('dt', dt)],\n",
    "        final_estimator=meta_learner\n",
    "    )\n",
    "    model.fit(X_train, y_train)\n",
    "    predict_train = model.predict(X_train)\n",
    "    r2 = r2_score(y_train, predict_train)\n",
    "\n",
    "    return -r2\n",
    "\n",
    "# Define the hyperparameter space for the meta learner\n",
    "param_space = [\n",
    "    Real(0.01, 0.5, name=\"learning_rate\"),\n",
    "    Integer(100, 500, name=\"n_estimators\"),\n",
    "    Integer(1, 10, name=\"max_depth\")\n",
    "]\n",
    "\n",
    "# Perform Bayesian optimization\n",
    "results = gp_minimize(objective, param_space, n_calls=50, random_state=0)\n",
    "\n",
    "# Extract the best hyperparameters\n",
    "best_learning_rate, best_n_estimators, best_max_depth = results.x\n",
    "\n",
    "# Print out the best hyperparameters\n",
    "print(f\"Best hyperparameters: learning_rate={best_learning_rate}, n_estimators={best_n_estimators}, max_depth={best_max_depth}\")\n",
    "\n",
    "# Create and train the final stacking regressor with the best hyperparameters\n",
    "final_meta_learner = GradientBoostingRegressor(learning_rate=best_learning_rate, \n",
    "                                               n_estimators=best_n_estimators, \n",
    "                                               max_depth=best_max_depth, \n",
    "                                               random_state=0)\n",
    "\n",
    "final_model = StackingRegressor(\n",
    "    estimators=[('mlp', mlp), ('rf', rf), ('br', br), ('dt', dt)],\n",
    "    final_estimator=final_meta_learner\n",
    ")\n",
    "final_model.fit(X_train, y_train)\n"
   ]
  }
 ],
 "metadata": {
  "kernelspec": {
   "display_name": "Python 3 (ipykernel)",
   "language": "python",
   "name": "python3"
  },
  "language_info": {
   "codemirror_mode": {
    "name": "ipython",
    "version": 3
   },
   "file_extension": ".py",
   "mimetype": "text/x-python",
   "name": "python",
   "nbconvert_exporter": "python",
   "pygments_lexer": "ipython3",
   "version": "3.10.2"
  }
 },
 "nbformat": 4,
 "nbformat_minor": 5
}
