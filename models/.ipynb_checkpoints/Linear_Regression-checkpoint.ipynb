{
 "cells": [
  {
   "cell_type": "code",
   "execution_count": 17,
   "id": "23ed3893-c3c3-48dd-b052-0c7de53d4460",
   "metadata": {},
   "outputs": [],
   "source": [
    "%run D:/UTD/UTDFall2023/Calibration-of-LoRaNodes-using-Super-Learners/plots/Scatter_Plot.ipynb\n",
    "%run D:/UTD/UTDFall2023/Calibration-of-LoRaNodes-using-Super-Learners/plots/QQ_Plot.ipynb\n",
    "%run D:/UTD/UTDFall2023/Calibration-of-LoRaNodes-using-Super-Learners/plots/Feature_Importance_Plot_Linear_Regressor.ipynb"
   ]
  },
  {
   "cell_type": "code",
   "execution_count": 16,
   "id": "208d7a8a-461c-4622-8fe5-288d884d0cdc",
   "metadata": {},
   "outputs": [],
   "source": [
    "def Linear_Regression(X_train,X_test,y_train,y_test,filtered_data):\n",
    "    lm = LinearRegression()\n",
    "    lm.fit( X_train,y_train)\n",
    "    predict_train = lm.predict(X_train)\n",
    "    predict_test = lm.predict(X_test)\n",
    "    \n",
    "    # Create DataFrames with indices and categories\n",
    "    train_df = pd.DataFrame({'Actual': y_train, 'Predicted': predict_train, 'Category': 'Training'}, index=y_train.index)\n",
    "    test_df = pd.DataFrame({'Actual': y_test, 'Predicted': predict_test, 'Category': 'Testing'}, index=y_test.index)\n",
    "    \n",
    "    # Concatenate the DataFrames\n",
    "    combined_df = pd.concat([train_df, test_df])\n",
    "    combined_df = combined_df.sort_index()\n",
    "    # Print or use the combined DataFrame as needed\n",
    "    print(combined_df)\n",
    "    # # plot_residuals(predict_test,y_test,filtered_data)\n",
    "    r2_score_train = round(metrics.r2_score(y_train, predict_train),2) \n",
    "    r2_score_test = round(metrics.r2_score(y_test, predict_test),2)\n",
    "    print(\"R2 value of train data\",r2_score_train)\n",
    "    print(\"R2 value of test data\",r2_score_test)\n",
    "    \n",
    "    if (v == 'dCn'):\n",
    "        unit = 'dCn'\n",
    "    else:\n",
    "        unit = 'pm_conc'\n",
    "\n",
    "    Scatter_Plot(combined_df, train_df, test_df, r2_score_train, r2_score_test, v, unit)\n",
    "    qq_plot(test_df, v, unit)\n",
    "    Feature_Importance_Linear_Regressor(lm, filtered_data, v, unit)\n",
    "\n",
    "    return r2_score_test \n",
    "\n",
    "\n",
    "\n",
    "\n",
    "    # # error_train =  y_train - predict_train\n",
    "    # # error_test = y_test - predict_test\n",
    "    # # bins = np.linspace(-10, 10, 100)\n",
    "    \n",
    "    # plt.hist(error_train, bins, label='train', color='green')\n",
    "    # plt.legend(loc='upper right')\n",
    "    # plt.show()\n",
    "    # plt.hist(error_train, bins, alpha=0.5, label='test', color='red')\n",
    "    # plt.legend(loc='upper right')\n",
    "    # plt.show()\n",
    "    \n",
    "    \n",
    "    "
   ]
  },
  {
   "cell_type": "code",
   "execution_count": null,
   "id": "56a99674-8e34-468d-b723-5637d440d151",
   "metadata": {},
   "outputs": [],
   "source": []
  }
 ],
 "metadata": {
  "kernelspec": {
   "display_name": "Python 3 (ipykernel)",
   "language": "python",
   "name": "python3"
  },
  "language_info": {
   "codemirror_mode": {
    "name": "ipython",
    "version": 3
   },
   "file_extension": ".py",
   "mimetype": "text/x-python",
   "name": "python",
   "nbconvert_exporter": "python",
   "pygments_lexer": "ipython3",
   "version": "3.10.2"
  }
 },
 "nbformat": 4,
 "nbformat_minor": 5
}
