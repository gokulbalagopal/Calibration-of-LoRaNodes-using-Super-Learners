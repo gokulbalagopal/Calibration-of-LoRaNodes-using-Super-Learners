{
 "cells": [
  {
   "cell_type": "code",
   "execution_count": null,
   "id": "916e6818-c596-4d49-a2b7-66d6f3a8f4e8",
   "metadata": {},
   "outputs": [],
   "source": [
    "def Scatter_Plot(combined_df,train_df,test_df,r2_score_train,r2_score_test, v, unit):\n",
    "    g = sns.jointplot(data=combined_df, x=\"Actual\", y=\"Predicted\", hue=\"Category\", kind=\"scatter\", legend = False, palette = ['orange','#1f77b4'])\n",
    "    \n",
    "    # Manually add scatter plots with different colors\n",
    "    sns.scatterplot(data=train_df, x=\"Actual\", y=\"Predicted\", label=f\"Training Data R$^{2}$ = {r2_score_train:.2f}\", ax=g.ax_joint,color = '#1f77b4')\n",
    "    sns.scatterplot(data=test_df, x=\"Actual\", y=\"Predicted\", label=f\"Testing Data R$^{2}$ = {r2_score_test:.2f}\",  ax=g.ax_joint, color = 'orange')\n",
    "    sns.lineplot(data=combined_df, x=\"Actual\", y=\"Actual\", label='1:1 Line',color = 'grey')\n",
    "    # Add legend\n",
    "    g.ax_joint.legend(loc='upper left')\n",
    "    g.fig.subplots_adjust(top= 0.9)\n",
    "    plt.xlim(-2, max(combined_df['Actual'].max(), combined_df['Predicted'].max())+5)\n",
    "    plt.ylim(-2, max(combined_df['Actual'].max(), combined_df['Predicted'].max())+5)\n",
    "    plt.xlabel('Actual Values')\n",
    "    plt.ylabel('Predicted Values')\n",
    "    # Add title\n",
    "    plt.suptitle('Predicted VS Actual'+' ' + dict_col_regression[v + 'Palas'] +' '+ unit_regression[unit], y=1.01)\n",
    "    plt.show()"
   ]
  },
  {
   "cell_type": "code",
   "execution_count": null,
   "id": "7c4e15ad-4b3c-4422-8aa5-2afa351aa28d",
   "metadata": {},
   "outputs": [],
   "source": [
    "def qq_plot(test_df,v, unit):\n",
    "    actual_values = np.array(test_df['Actual'])\n",
    "    predicted_values = np.array(test_df['Predicted'])\n",
    "    # Calculate quantiles\n",
    "    quantiles_actual = np.percentile(actual_values, [0, 25, 50, 75,100])\n",
    "    quantiles_predicted = np.percentile(predicted_values, [0, 25, 50,75, 100])\n",
    "    \n",
    "    # Create a QQ plot\n",
    "    fig, ax = plt.subplots()\n",
    "    sm.qqplot_2samples(actual_values, predicted_values, ax=ax)\n",
    "    ax.plot(quantiles_actual, quantiles_predicted, marker='x', linestyle='', color='black', label='Quantiles')\n",
    "    # Connect the 25th and 75th percentiles with a line\n",
    "    quantile_color = 'black'\n",
    "    ax.plot([quantiles_actual[1], quantiles_actual[3]], [quantiles_predicted[1], quantiles_predicted[3]], linestyle='--', color = quantile_color, label='25-75 Percentile Line')\n",
    "    # Extend the line beyond 25th percentile\n",
    "    extension_factor = 2\n",
    "    extension_x = quantiles_actual[1] - extension_factor * (quantiles_actual[3] - quantiles_actual[1])\n",
    "    extension_y = quantiles_predicted[1] - extension_factor * (quantiles_predicted[3] - quantiles_predicted[1])\n",
    "    ax.plot([quantiles_actual[1], extension_x], [quantiles_predicted[1], extension_y], linestyle='--', color = quantile_color)\n",
    "    \n",
    "    # Extend the line beyond 75th percentile\n",
    "    extension_x = quantiles_actual[3] + extension_factor * (quantiles_actual[3] - quantiles_actual[1])\n",
    "    extension_y = quantiles_predicted[3] + extension_factor * (quantiles_predicted[3] - quantiles_predicted[1])\n",
    "    ax.plot([quantiles_actual[3], extension_x], [quantiles_predicted[3], extension_y], linestyle='--', color = quantile_color)\n",
    "    \n",
    "    # Annotate quantiles\n",
    "    for i, txt in enumerate([\"0th\", \"25th\", \"50th\", \"75th\", \"100th\"]):\n",
    "        ax.annotate(txt, (quantiles_actual[i], quantiles_predicted[i]), textcoords=\"offset points\", xytext=(10,-10),color = quantile_color, ha='center', fontsize=8)\n",
    "    plt.xlim(0,max(quantiles_actual)+2)\n",
    "    plt.ylim(0,max(quantiles_predicted)+2)\n",
    "    # Show the plot\n",
    "    plt.legend(loc='upper left')\n",
    "    plt.title('Quantile - Quantile Plot for '+ dict_col_regression[v + 'Palas'] + ' '+ unit_regression[unit])\n",
    "    plt.xlabel('Actual Quantiles')\n",
    "    plt.ylabel('Estimated Quantiles')\n",
    "    plt.show()"
   ]
  },
  {
   "cell_type": "code",
   "execution_count": null,
   "id": "bb88eaac-dcbf-4d89-92f9-241149b79a8f",
   "metadata": {},
   "outputs": [],
   "source": [
    "def Feature_Importance_Linear_Regressor(lm, filtered_data,v,unit):\n",
    "    feature_importances = lm.coef_\n",
    "    print(feature_importances)   \n",
    "        \n",
    "    # # Get feature names (you may have a predefined list of feature names)\n",
    "    feature_names = [f\"{dict_col_regression[i]}\" for i in X_train.columns]\n",
    "    print(feature_names)\n",
    "    # Sort features by importance\n",
    "    sorted_indices = np.argsort(feature_importances)[::-1]\n",
    "    sorted_feature_importances = np.abs(feature_importances[sorted_indices])\n",
    "    sorted_feature_names = [feature_names[i] for i in sorted_indices]\n",
    "    \n",
    "    # Create a horizontal bar chart for feature importance\n",
    "    plt.figure(figsize=(10, 6))\n",
    "    plt.barh(sorted_feature_names, sorted_feature_importances, color='blue')\n",
    "    plt.xlabel('Relative Importance')\n",
    "    plt.title('Feature Importance for ' + dict_col_regression[v + 'Palas'] + ' '+ unit_regression[unit] )\n",
    "    plt.show()\n"
   ]
  }
 ],
 "metadata": {
  "kernelspec": {
   "display_name": "Python 3 (ipykernel)",
   "language": "python",
   "name": "python3"
  },
  "language_info": {
   "codemirror_mode": {
    "name": "ipython",
    "version": 3
   },
   "file_extension": ".py",
   "mimetype": "text/x-python",
   "name": "python",
   "nbconvert_exporter": "python",
   "pygments_lexer": "ipython3",
   "version": "3.12.0"
  }
 },
 "nbformat": 4,
 "nbformat_minor": 5
}
