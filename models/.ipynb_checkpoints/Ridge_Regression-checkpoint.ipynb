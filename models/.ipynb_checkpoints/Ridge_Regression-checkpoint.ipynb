{
 "cells": [
  {
   "cell_type": "code",
   "execution_count": 1,
   "id": "f2245763-30e5-41d6-bb35-eb2c86370d96",
   "metadata": {},
   "outputs": [],
   "source": [
    "%run D:/UTD/UTDFall2023/Calibration-of-LoRaNodes-using-Super-Learners/plots/Scatter_Plot.ipynb\n",
    "%run D:/UTD/UTDFall2023/Calibration-of-LoRaNodes-using-Super-Learners/plots/QQ_Plot.ipynb\n",
    "# %run D:/UTD/UTDFall2023/Calibration-of-LoRaNodes-using-Super-Learners/plots/Feature_Importance_Plot_Random_Forest_Regressor.ipynb"
   ]
  },
  {
   "cell_type": "code",
   "execution_count": null,
   "id": "1fbc6c13-0ca6-44e8-b34b-2ca827342071",
   "metadata": {},
   "outputs": [],
   "source": [
    "def Ridge_Regression(X_train,X_test,y_train,y_test,filtered_data):\n",
    "    \n",
    "    # Initialize the Ridge Regressor\n",
    "    model = Ridge(alpha=1.0)  # alpha is the regularization strength\n",
    "    \n",
    "    # Train the model\n",
    "    model.fit(X_train, y_train)\n",
    "        # Predict on test data\n",
    "    predict_train = model.predict(X_train)\n",
    "    predict_test = model.predict(X_test)\n",
    "\n",
    "    train_df = pd.DataFrame({'Actual': y_train, 'Predicted': predict_train, 'Category': 'Training'}, index=y_train.index)\n",
    "    test_df = pd.DataFrame({'Actual': y_test, 'Predicted': predict_test, 'Category': 'Testing'}, index=y_test.index)\n",
    "\n",
    "    # Concatenate the DataFrames\n",
    "    combined_df = pd.concat([train_df, test_df])\n",
    "    combined_df = combined_df.sort_index()\n",
    "    # Print or use the combined DataFrame as needed\n",
    "    print(combined_df)\n",
    "    \n",
    "    r2_score_train = round(metrics.r2_score(y_train, predict_train),2) \n",
    "    r2_score_test = round(metrics.r2_score(y_test, predict_test),2)\n",
    "    print('r2 train',r2_score_train)    \n",
    "    print('r2 test',r2_score_test) \n",
    "\n",
    "    if (v == 'dCn'):\n",
    "        unit = 'dCn'\n",
    "    else:\n",
    "        unit = 'pm_conc'\n",
    "    \n",
    "    Scatter_Plot(combined_df, train_df, test_df, r2_score_train, r2_score_test, v, unit)\n",
    "    qq_plot(test_df, v, unit)\n",
    "    #Feature_Importance_Random_Forest_Regressor(model, filtered_data, v, unit)\n",
    "    return r2_score_test"
   ]
  }
 ],
 "metadata": {
  "kernelspec": {
   "display_name": "Python 3 (ipykernel)",
   "language": "python",
   "name": "python3"
  },
  "language_info": {
   "codemirror_mode": {
    "name": "ipython",
    "version": 3
   },
   "file_extension": ".py",
   "mimetype": "text/x-python",
   "name": "python",
   "nbconvert_exporter": "python",
   "pygments_lexer": "ipython3",
   "version": "3.10.2"
  }
 },
 "nbformat": 4,
 "nbformat_minor": 5
}
