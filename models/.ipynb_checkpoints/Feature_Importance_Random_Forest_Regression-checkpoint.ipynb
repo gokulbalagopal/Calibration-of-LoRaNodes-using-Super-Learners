{
 "cells": [
  {
   "cell_type": "code",
   "execution_count": null,
   "id": "87828ad4-ad98-4331-9391-6f7cf209841c",
   "metadata": {},
   "outputs": [],
   "source": [
    "def Feature_Importance_Random_Forest_Regressor(model, filtered_data, v, unit):\n",
    "    ls_feat_lab = []\n",
    "    for i in X_train.columns:\n",
    "        print(i[:-len(\"_loRa\")])\n",
    "        ls_feat_lab.append(i[:-len(\"_loRa\")])\n",
    "    #print(ls_feat_lab)\n",
    "    print('feat_imp',model.feature_importances_)\n",
    "    feat_importances = pd.Series(model.feature_importances_, index = ls_feat_lab)\n",
    "    print(feat_importances)\n",
    "    feat_importances.nsmallest(9).plot(kind='barh',title = 'Feature Importance for ' + dict_col_regression[v + 'Palas'] + ' '+ unit_regression[unit])\n",
    "    plt.show()"
   ]
  }
 ],
 "metadata": {
  "kernelspec": {
   "display_name": "Python 3 (ipykernel)",
   "language": "python",
   "name": "python3"
  },
  "language_info": {
   "codemirror_mode": {
    "name": "ipython",
    "version": 3
   },
   "file_extension": ".py",
   "mimetype": "text/x-python",
   "name": "python",
   "nbconvert_exporter": "python",
   "pygments_lexer": "ipython3",
   "version": "3.12.0"
  }
 },
 "nbformat": 4,
 "nbformat_minor": 5
}
