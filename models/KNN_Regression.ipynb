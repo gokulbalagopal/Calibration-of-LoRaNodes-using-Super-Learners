{
 "cells": [
  {
   "cell_type": "code",
   "execution_count": 1,
   "id": "f2245763-30e5-41d6-bb35-eb2c86370d96",
   "metadata": {},
   "outputs": [],
   "source": [
    "%run D:/UTD/UTDFall2023/Calibration-of-LoRaNodes-using-Super-Learners/plots/Scatter_Plot.ipynb\n",
    "%run D:/UTD/UTDFall2023/Calibration-of-LoRaNodes-using-Super-Learners/plots/QQ_Plot.ipynb\n",
    "# %run D:/UTD/UTDFall2023/Calibration-of-LoRaNodes-using-Super-Learners/plots/Feature_Importance_Plot_Random_Forest_Regressor.ipynb"
   ]
  },
  {
   "cell_type": "code",
   "execution_count": null,
   "id": "1fbc6c13-0ca6-44e8-b34b-2ca827342071",
   "metadata": {},
   "outputs": [],
   "source": [
    "def KNN_Regression(X_train,X_test,y_train,y_test,filtered_data):\n",
    "    ml_type = 'KNN'\n",
    "    scaler_X = StandardScaler()\n",
    "    scaler_y = StandardScaler()\n",
    "    X_train_scaled = scaler_X.fit_transform(X_train)\n",
    "    X_test_scaled = scaler_X.fit_transform(X_test)    \n",
    "    # Reshape the Series to 2D (n_samples, n_features) using .values and reshape\n",
    "    y_train_scaled = scaler_y.fit_transform(y_train.values.reshape(-1, 1)).ravel()\n",
    "    y_test_scaled = scaler_y.fit_transform(y_test.values.reshape(-1, 1)).ravel()\n",
    "    \n",
    "    model = KNeighborsRegressor(n_neighbors=4,p=2)\n",
    "    \n",
    "    # Fit to data\n",
    "    model.fit(X_train_scaled, y_train_scaled)\n",
    "    # Predict\n",
    "    predict_train_scaled = model.predict(X_train_scaled)\n",
    "    predict_train = scaler_y.inverse_transform(predict_train_scaled.reshape(-1, 1)).ravel()\n",
    "    \n",
    "    predict_test_scaled = model.predict(X_test_scaled)\n",
    "    predict_test = scaler_y.inverse_transform(predict_test_scaled.reshape(-1, 1)).ravel()\n",
    "\n",
    "    train_df = pd.DataFrame({'Actual': y_train, 'Predicted': predict_train, 'Category': 'Training'}, index=y_train.index)\n",
    "    test_df = pd.DataFrame({'Actual': y_test, 'Predicted': predict_test, 'Category': 'Testing'}, index=y_test.index)\n",
    "\n",
    "    # Concatenate the DataFrames\n",
    "    combined_df = pd.concat([train_df, test_df])\n",
    "    combined_df = combined_df.sort_index()\n",
    "    # Print or use the combined DataFrame as needed\n",
    "    print(combined_df)\n",
    "    \n",
    "    r2_score_train = round(metrics.r2_score(y_train, predict_train),2) \n",
    "    r2_score_test = round(metrics.r2_score(y_test, predict_test),2)\n",
    "    print('r2 train',r2_score_train)    \n",
    "    print('r2 test',r2_score_test) \n",
    "\n",
    "    if (v == 'dCn'):\n",
    "        unit = 'dCn'\n",
    "    else:\n",
    "        unit = 'pm_conc'\n",
    "    \n",
    "    # Scatter_Plot(combined_df, train_df, test_df, r2_score_train, r2_score_test, v, unit,ml_type)\n",
    "    # qq_plot(test_df, v, unit,ml_type)\n",
    "    return r2_score_test\n",
    "    #Feature_Importance_Random_Forest_Regressor(model, filtered_data, v, unit)"
   ]
  }
 ],
 "metadata": {
  "kernelspec": {
   "display_name": "Python 3 (ipykernel)",
   "language": "python",
   "name": "python3"
  },
  "language_info": {
   "codemirror_mode": {
    "name": "ipython",
    "version": 3
   },
   "file_extension": ".py",
   "mimetype": "text/x-python",
   "name": "python",
   "nbconvert_exporter": "python",
   "pygments_lexer": "ipython3",
   "version": "3.10.2"
  }
 },
 "nbformat": 4,
 "nbformat_minor": 5
}
