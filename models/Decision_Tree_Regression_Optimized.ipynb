{
 "cells": [
  {
   "cell_type": "code",
   "execution_count": 1,
   "id": "35910705-5a6a-41d1-aff1-105a00b3eb90",
   "metadata": {},
   "outputs": [],
   "source": [
    "%run D:/UTD/UTDFall2023/Calibration-of-LoRaNodes-using-Super-Learners/plots/Scatter_Plot.ipynb\n",
    "%run D:/UTD/UTDFall2023/Calibration-of-LoRaNodes-using-Super-Learners/plots/QQ_Plot.ipynb\n",
    "%run D:/UTD/UTDFall2023/Calibration-of-LoRaNodes-using-Super-Learners/plots/Feature_Importance_Plot_Random_Forest_Regressor.ipynb"
   ]
  },
  {
   "cell_type": "code",
   "execution_count": 2,
   "id": "d416becd-4ac0-4cb5-9f99-ea9642c07cde",
   "metadata": {
    "editable": true,
    "slideshow": {
     "slide_type": ""
    },
    "tags": []
   },
   "outputs": [],
   "source": [
    "def Decision_Tree_Regression(X_train, X_test, y_train, y_test, filtered_data):\n",
    "    # Function to be optimized by Bayesian Optimization\n",
    "    def dt_regressor_cv(max_depth, min_samples_split, min_samples_leaf):\n",
    "        # Ensure parameters are in the correct format\n",
    "        max_depth = int(max_depth)\n",
    "        min_samples_split = int(min_samples_split)\n",
    "        min_samples_leaf = int(min_samples_leaf)\n",
    "\n",
    "        # Define and fit the model\n",
    "        model = DecisionTreeRegressor(\n",
    "            max_depth=max_depth,\n",
    "            min_samples_split=min_samples_split,\n",
    "            min_samples_leaf=min_samples_leaf,\n",
    "            random_state=0\n",
    "        )\n",
    "        model.fit(X_train, y_train)\n",
    "\n",
    "        # Predict and calculate R2 score\n",
    "        predict_test = model.predict(X_test)\n",
    "        r2_score_test = r2_score(y_test, predict_test)\n",
    "        return r2_score_test\n",
    "\n",
    "    # Setting ranges for hyperparameters\n",
    "    pbounds = {\n",
    "        'max_depth': (1, 32),\n",
    "        'min_samples_split': (2, 20),\n",
    "        'min_samples_leaf': (1, 10)\n",
    "    }\n",
    "\n",
    "    # Bayesian Optimization\n",
    "    optimizer = BayesianOptimization(\n",
    "        f=dt_regressor_cv,\n",
    "        pbounds=pbounds,\n",
    "        random_state=0\n",
    "    )\n",
    "    optimizer.maximize(init_points=5, n_iter=15)\n",
    "\n",
    "    # Optimal parameters\n",
    "    params = optimizer.max['params']\n",
    "    params['max_depth'] = int(params['max_depth'])\n",
    "    params['min_samples_split'] = int(params['min_samples_split'])\n",
    "    params['min_samples_leaf'] = int(params['min_samples_leaf'])\n",
    "    \n",
    "    print(\"Optimal Parameters:\", params)\n",
    "\n",
    "    # Create and train model with optimal parameters\n",
    "    best_model = DecisionTreeRegressor(\n",
    "        max_depth=params['max_depth'],\n",
    "        min_samples_split=params['min_samples_split'],\n",
    "        min_samples_leaf=params['min_samples_leaf'],\n",
    "        random_state=0\n",
    "    )\n",
    "    best_model.fit(X_train, y_train)\n",
    "\n",
    "    # Predictions\n",
    "    predict_train = best_model.predict(X_train)\n",
    "    predict_test = best_model.predict(X_test)\n",
    "\n",
    "    # DataFrame Creation\n",
    "    train_df = pd.DataFrame({'Actual': y_train, 'Predicted': predict_train, 'Category': 'Training'}, index=y_train.index)\n",
    "    test_df = pd.DataFrame({'Actual': y_test, 'Predicted': predict_test, 'Category': 'Testing'}, index=y_test.index)\n",
    "\n",
    "    # Concatenating and Sorting\n",
    "    combined_df = pd.concat([train_df, test_df])\n",
    "    combined_df = combined_df.sort_index()\n",
    "\n",
    "    # R2 Score\n",
    "    r2_score_train = round(r2_score(y_train, predict_train), 2)\n",
    "    r2_score_test = round(r2_score(y_test, predict_test), 2)\n",
    "    print('R2 Score Train:', r2_score_train)\n",
    "    print('R2 Score Test:', r2_score_test)\n",
    "\n",
    "    return best_model, params, r2_score_test\n"
   ]
  }
 ],
 "metadata": {
  "kernelspec": {
   "display_name": "Python 3 (ipykernel)",
   "language": "python",
   "name": "python3"
  },
  "language_info": {
   "codemirror_mode": {
    "name": "ipython",
    "version": 3
   },
   "file_extension": ".py",
   "mimetype": "text/x-python",
   "name": "python",
   "nbconvert_exporter": "python",
   "pygments_lexer": "ipython3",
   "version": "3.10.2"
  }
 },
 "nbformat": 4,
 "nbformat_minor": 5
}
