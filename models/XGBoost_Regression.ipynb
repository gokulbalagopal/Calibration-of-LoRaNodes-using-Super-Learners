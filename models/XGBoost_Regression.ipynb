{
 "cells": [
  {
   "cell_type": "code",
   "execution_count": 7,
   "id": "35910705-5a6a-41d1-aff1-105a00b3eb90",
   "metadata": {},
   "outputs": [],
   "source": [
    "%run D:/UTD/UTDFall2023/Calibration-of-LoRaNodes-using-Super-Learners/plots/Scatter_Plot.ipynb\n",
    "%run D:/UTD/UTDFall2023/Calibration-of-LoRaNodes-using-Super-Learners/plots/QQ_Plot.ipynb\n",
    "%run D:/UTD/UTDFall2023/Calibration-of-LoRaNodes-using-Super-Learners/plots/Feature_Importance_Plot_Random_Forest_Regressor.ipynb"
   ]
  },
  {
   "cell_type": "code",
   "execution_count": 6,
   "id": "d416becd-4ac0-4cb5-9f99-ea9642c07cde",
   "metadata": {},
   "outputs": [],
   "source": [
    "def XGBoost_Regression(X_train, X_test, y_train, y_test, filtered_data):\n",
    "    ml_type = 'XGB'\n",
    "\n",
    "    # Initialize and train the XGBoost regressor model\n",
    "    model = xgb.XGBRegressor(n_estimators=100, random_state=0)\n",
    "    model.fit(X_train, y_train)\n",
    "\n",
    "    # Make predictions\n",
    "    predict_train = model.predict(X_train)\n",
    "    predict_test = model.predict(X_test)\n",
    "\n",
    "    # Create DataFrames with indices and categories\n",
    "    train_df = pd.DataFrame({'Actual': y_train, 'Predicted': predict_train, 'Category': 'Training'}, index=y_train.index)\n",
    "    test_df = pd.DataFrame({'Actual': y_test, 'Predicted': predict_test, 'Category': 'Testing'}, index=y_test.index)\n",
    "\n",
    "    # Concatenate the DataFrames\n",
    "    combined_df = pd.concat([train_df, test_df])\n",
    "    combined_df = combined_df.sort_index()\n",
    "    print(combined_df)\n",
    "\n",
    "    # Calculate and print R2 scores\n",
    "    r2_score_train = round(r2_score(y_train, predict_train), 2)\n",
    "    r2_score_test = round(r2_score(y_test, predict_test), 2)\n",
    "    print(\"R2 value of train data:\", r2_score_train)\n",
    "    print(\"R2 value of test data:\", r2_score_test)\n",
    "\n",
    "    # Determine unit based on filtered_data\n",
    "    if 'dCn' in filtered_data:\n",
    "        unit = 'dCn'\n",
    "    else:\n",
    "        unit = 'pm_conc'\n",
    "\n",
    "    # Additional plots and analyses (if needed)\n",
    "    # Scatter_Plot(combined_df, train_df, test_df, r2_score_train, r2_score_test, v, unit, ml_type)\n",
    "    # qq_plot(test_df, v, unit, ml_type)\n",
    "    # Feature_Importance_XGBoost(model, filtered_data, v, unit, ml_type)\n",
    "\n",
    "    return r2_score_test"
   ]
  }
 ],
 "metadata": {
  "kernelspec": {
   "display_name": "Python 3 (ipykernel)",
   "language": "python",
   "name": "python3"
  },
  "language_info": {
   "codemirror_mode": {
    "name": "ipython",
    "version": 3
   },
   "file_extension": ".py",
   "mimetype": "text/x-python",
   "name": "python",
   "nbconvert_exporter": "python",
   "pygments_lexer": "ipython3",
   "version": "3.10.2"
  }
 },
 "nbformat": 4,
 "nbformat_minor": 5
}
