{
 "cells": [
  {
   "cell_type": "code",
   "execution_count": null,
   "id": "6049dda4",
   "metadata": {},
   "outputs": [],
   "source": [
    "%run D:/UTD/UTDFall2023/Calibration-of-LoRaNodes-using-Super-Learners/plots/Scatter_Plot.ipynb\n",
    "%run D:/UTD/UTDFall2023/Calibration-of-LoRaNodes-using-Super-Learners/plots/QQ_Plot.ipynb"
   ]
  },
  {
   "cell_type": "code",
   "execution_count": 66,
   "id": "9a82e121",
   "metadata": {},
   "outputs": [],
   "source": [
    "\n",
    "def Stacking_Regression(X_train, X_test, y_train, y_test, filtered_data, param_dict):\n",
    "    ml_type = 'SL'\n",
    "\n",
    "    # Define base learners\n",
    "    rf_regressor = RandomForestRegressor(n_estimators=param_dict[0]['n_estimators'], \n",
    "                                         max_depth=param_dict[0]['max_depth'],\n",
    "                                         min_samples_leaf=param_dict[0]['min_samples_leaf'],\n",
    "                                         min_samples_split=param_dict[0]['min_samples_split'], \n",
    "                                         random_state=0) #RandomForestRegressor(n_estimators = 50, random_state = 0)\n",
    "\n",
    "    bagging_regressor = BaggingRegressor(estimator=DecisionTreeRegressor(), \n",
    "                                         n_estimators=param_dict[1]['n_estimators'],\n",
    "                                         max_samples=param_dict[1]['max_samples'], \n",
    "                                         max_features=param_dict[1]['max_features'],\n",
    "                                         random_state=42)\n",
    "\n",
    "    lgbm_regressor = LGBMRegressor(n_estimators=param_dict[2]['n_estimators'], \n",
    "                                   max_depth=param_dict[2]['max_depth'],\n",
    "                                   learning_rate=param_dict[2]['learning_rate'], \n",
    "                                   num_leaves=param_dict[2]['num_leaves'],\n",
    "                                   min_child_samples=param_dict[2]['min_child_samples'], \n",
    "                                   random_state=1)\n",
    "\n",
    "    dt_regressor = DecisionTreeRegressor(max_depth=param_dict[3]['max_depth'],\n",
    "                                         min_samples_split=param_dict[3]['min_samples_split'],\n",
    "                                         min_samples_leaf=param_dict[3]['min_samples_leaf'],\n",
    "                                         random_state=0)\n",
    "\n",
    "    model = StackingRegressor(\n",
    "        estimators=[\n",
    "            ('rf', rf_regressor),\n",
    "            ('bagging', bagging_regressor),\n",
    "            ('lgbm', lgbm_regressor),\n",
    "            ('dt', dt_regressor)],\n",
    "        final_estimator = LinearRegression()\n",
    "    )\n",
    "\n",
    "    model.fit(X_train, y_train)\n",
    "\n",
    "    predict_train = model.predict(X_train)\n",
    "    predict_test = model.predict(X_test)\n",
    "\n",
    "    train_df = pd.DataFrame({'Actual': y_train, 'Predicted': predict_train, 'Category': 'Training'}, index=y_train.index)\n",
    "    test_df = pd.DataFrame({'Actual': y_test, 'Predicted': predict_test, 'Category': 'Testing'}, index=y_test.index)\n",
    "\n",
    "    # Concatenate the DataFrames\n",
    "    combined_df = pd.concat([train_df, test_df])\n",
    "    combined_df = combined_df.sort_index()\n",
    "    print(combined_df)\n",
    "\n",
    "    r2_score_train = round(metrics.r2_score(y_train, predict_train), 2) \n",
    "    r2_score_test = round(metrics.r2_score(y_test, predict_test), 2)\n",
    "    print('r2 train', r2_score_train)    \n",
    "    print('r2 test', r2_score_test) \n",
    "    \n",
    "    if 'dCn' in filtered_data:\n",
    "        unit = 'dCn'\n",
    "    else:\n",
    "        unit = 'pm_conc'\n",
    "    \n",
    "    Scatter_Plot(combined_df, train_df, test_df, r2_score_train, r2_score_test, v, unit,ml_type)\n",
    "    qq_plot(test_df, v, unit,ml_type)\n",
    "    return r2_score_test"
   ]
  }
 ],
 "metadata": {
  "kernelspec": {
   "display_name": "Python 3 (ipykernel)",
   "language": "python",
   "name": "python3"
  },
  "language_info": {
   "codemirror_mode": {
    "name": "ipython",
    "version": 3
   },
   "file_extension": ".py",
   "mimetype": "text/x-python",
   "name": "python",
   "nbconvert_exporter": "python",
   "pygments_lexer": "ipython3",
   "version": "3.10.2"
  }
 },
 "nbformat": 4,
 "nbformat_minor": 5
}
