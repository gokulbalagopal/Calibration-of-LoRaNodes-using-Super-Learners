{
 "cells": [
  {
   "cell_type": "code",
   "execution_count": 1,
   "id": "710af63e-96c9-4ccb-a609-a3ba6f430fbf",
   "metadata": {},
   "outputs": [],
   "source": [
    "%run D:/UTD/UTDFall2023/Calibration-of-LoRaNodes-using-Super-Learners/plots/Scatter_Plot.ipynb\n",
    "%run D:/UTD/UTDFall2023/Calibration-of-LoRaNodes-using-Super-Learners/plots/QQ_Plot.ipynb\n",
    "# %run D:/UTD/UTDFall2023/Calibration-of-LoRaNodes-using-Super-Learners/plots/Feature_Importance_Plot_Random_Forest_Regressor.ipynb"
   ]
  },
  {
   "cell_type": "code",
   "execution_count": 1,
   "id": "25fbf3a3-8d50-4620-bfc6-804d4f1501a1",
   "metadata": {
    "editable": true,
    "slideshow": {
     "slide_type": ""
    },
    "tags": []
   },
   "outputs": [],
   "source": [
    "def LGBM_Regression(X_train,X_test,y_train,y_test,filtered_data):\n",
    "    model = LGBMRegressor(\n",
    "        random_state=42,\n",
    "        verbosity=-1\n",
    "    )\n",
    "    model.fit(X_train, y_train)\n",
    "    predict_train = model.predict(X_train)\n",
    "    predict_test = model.predict(X_test)\n",
    "\n",
    "    train_df = pd.DataFrame({'Actual': y_train, 'Predicted': predict_train, 'Category': 'Training'}, index=y_train.index)\n",
    "    test_df = pd.DataFrame({'Actual': y_test, 'Predicted': predict_test, 'Category': 'Testing'}, index=y_test.index)\n",
    "\n",
    "    # Concatenate the DataFrames\n",
    "    combined_df = pd.concat([train_df, test_df])\n",
    "    combined_df = combined_df.sort_index()\n",
    "    # Print or use the combined DataFrame as needed\n",
    "    # print(combined_df)\n",
    "    \n",
    "    r2_score_train = round(metrics.r2_score(y_train, predict_train),2) \n",
    "    r2_score_test = round(metrics.r2_score(y_test, predict_test),2)\n",
    "    \n",
    "    if (v == 'dCn'):\n",
    "        unit = 'dCn'\n",
    "    else:\n",
    "        unit = 'pm_conc'\n",
    "        \n",
    "    # Scatter_Plot(combined_df, train_df, test_df, r2_score_train, r2_score_test, v, unit)\n",
    "    # qq_plot(test_df, v, unit)\n",
    "    #Feature_Importance_Random_Forest_Regressor(model, filtered_data, v, unit)\n",
    "    \n",
    "    return  r2_score_test,r2_score_train "
   ]
  },
  {
   "cell_type": "code",
   "execution_count": null,
   "id": "3dcb7fe6-299b-4a63-80dc-be044eedbd08",
   "metadata": {
    "editable": true,
    "slideshow": {
     "slide_type": ""
    },
    "tags": []
   },
   "outputs": [],
   "source": [
    "# def LGBM_Regression(X_train,X_test,y_train,y_test,filtered_data):\n",
    "#     model = LGBMRegressor(\n",
    "#         n_estimators=100,\n",
    "#         max_depth=-1,\n",
    "#         learning_rate=0.1,\n",
    "#         num_leaves=31,\n",
    "#         min_child_samples=20,\n",
    "#         random_state=1,\n",
    "#         verbosity=-1\n",
    "#     )\n",
    "#     model.fit(X_train, y_train)\n",
    "#     predict_train = model.predict(X_train)\n",
    "#     predict_test = model.predict(X_test)\n",
    "\n",
    "#     train_df = pd.DataFrame({'Actual': y_train, 'Predicted': predict_train, 'Category': 'Training'}, index=y_train.index)\n",
    "#     test_df = pd.DataFrame({'Actual': y_test, 'Predicted': predict_test, 'Category': 'Testing'}, index=y_test.index)\n",
    "\n",
    "#     # Concatenate the DataFrames\n",
    "#     combined_df = pd.concat([train_df, test_df])\n",
    "#     combined_df = combined_df.sort_index()\n",
    "#     # Print or use the combined DataFrame as needed\n",
    "#     # print(combined_df)\n",
    "    \n",
    "#     r2_score_train = round(metrics.r2_score(y_train, predict_train),2) \n",
    "#     r2_score_test = round(metrics.r2_score(y_test, predict_test),2)\n",
    "    \n",
    "#     if (v == 'dCn'):\n",
    "#         unit = 'dCn'\n",
    "#     else:\n",
    "#         unit = 'pm_conc'\n",
    "        \n",
    "#     # Scatter_Plot(combined_df, train_df, test_df, r2_score_train, r2_score_test, v, unit)\n",
    "#     # qq_plot(test_df, v, unit)\n",
    "#     #Feature_Importance_Random_Forest_Regressor(model, filtered_data, v, unit)\n",
    "    \n",
    "#     return  r2_score_test"
   ]
  }
 ],
 "metadata": {
  "kernelspec": {
   "display_name": "Python 3 (ipykernel)",
   "language": "python",
   "name": "python3"
  },
  "language_info": {
   "codemirror_mode": {
    "name": "ipython",
    "version": 3
   },
   "file_extension": ".py",
   "mimetype": "text/x-python",
   "name": "python",
   "nbconvert_exporter": "python",
   "pygments_lexer": "ipython3",
   "version": "3.10.2"
  }
 },
 "nbformat": 4,
 "nbformat_minor": 5
}
